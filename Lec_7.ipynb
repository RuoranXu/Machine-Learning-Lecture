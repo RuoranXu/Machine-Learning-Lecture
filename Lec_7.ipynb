{
 "cells": [
  {
   "cell_type": "markdown",
   "id": "4339354d-8358-4363-adc4-81bd92133fbf",
   "metadata": {},
   "source": [
    "## Lec 7. 自然语言处理 NLP (Nature Language Processing)\n",
    "\n",
    "- 传统自然语言处理\n",
    "    - 分词 jieba\n",
    "    - 命名实体识别\n",
    "    - 关系抽取\n",
    "    - TD-IDF\n",
    "    - ......\n",
    "- 深度学习自然语言处理\n",
    "    - 大语言模型 Large Language Model\n",
    " \n",
    "- 文本 -> 向量\n",
    "    - Label Encoding 类别编码 (词元 Token)\n",
    "    - One-Hot Encoding 独热编码\n",
    "    - Embedding 嵌入\n",
    " \n",
    "### 7.1 词汇表 Vocab & 文本向量化"
   ]
  },
  {
   "cell_type": "code",
   "execution_count": 1,
   "id": "95074ab2-2eae-46cb-9f20-dd55a6691676",
   "metadata": {},
   "outputs": [],
   "source": [
    "import torch\n",
    "import torch.nn as nn"
   ]
  },
  {
   "cell_type": "code",
   "execution_count": 2,
   "id": "db09388a-7836-4ad8-b163-94e8d5809c82",
   "metadata": {},
   "outputs": [
    {
     "data": {
      "text/plain": [
       "(['Apple', 'Banana', 'Orange', 'Peach'],\n",
       " {'Apple': 0, 'Banana': 1, 'Orange': 2, 'Peach': 3})"
      ]
     },
     "execution_count": 2,
     "metadata": {},
     "output_type": "execute_result"
    }
   ],
   "source": [
    "class Vocab:\n",
    "    \"\"\" 用于存储单词词元映射关系的词典 \"\"\"\n",
    "    def __init__(self):\n",
    "        self.word2idx = {}\n",
    "        self.idx2word = []\n",
    "\n",
    "    def add(self, word):\n",
    "        \"\"\" 向词典中添加新的单词 \"\"\"\n",
    "        if word not in self.idx2word:\n",
    "            self.word2idx[word] = len(self.idx2word)\n",
    "            self.idx2word.append(word)\n",
    "\n",
    "    def get_dummies(self, word):\n",
    "        if word in self.idx2word:\n",
    "            one_hot = torch.zeros(len(self.idx2word))\n",
    "            one_hot[self.word2idx.get(word)] = 1\n",
    "            return one_hot\n",
    "\n",
    "    def __len__(self):\n",
    "        return len(self.idx2word)\n",
    "\n",
    "vocab = Vocab()\n",
    "corpus = [\"Apple\", \"Banana\", \"Orange\", \"Peach\"]\n",
    "\n",
    "for word in corpus:\n",
    "    vocab.add(word)\n",
    "\n",
    "vocab.idx2word, vocab.word2idx"
   ]
  },
  {
   "cell_type": "code",
   "execution_count": 3,
   "id": "2d0c3d69-cf32-41ed-b833-334df2c1702b",
   "metadata": {},
   "outputs": [
    {
     "data": {
      "text/plain": [
       "(2, 'Peach')"
      ]
     },
     "execution_count": 3,
     "metadata": {},
     "output_type": "execute_result"
    }
   ],
   "source": [
    "# 类别编码\n",
    "vocab.word2idx.get(\"Orange\"), vocab.idx2word[3]"
   ]
  },
  {
   "cell_type": "code",
   "execution_count": 4,
   "id": "38bda059-101f-4268-9b62-c4c50625832f",
   "metadata": {},
   "outputs": [
    {
     "data": {
      "text/plain": [
       "tensor([0., 0., 1., 0.])"
      ]
     },
     "execution_count": 4,
     "metadata": {},
     "output_type": "execute_result"
    }
   ],
   "source": [
    "# 独热编码\n",
    "vocab.get_dummies(\"Orange\")"
   ]
  },
  {
   "cell_type": "code",
   "execution_count": 5,
   "id": "6a5b425b-ec8d-4d80-b843-e0beb7728dc0",
   "metadata": {},
   "outputs": [
    {
     "data": {
      "text/plain": [
       "tensor([ 0.1120, -0.2026, -0.4432,  ..., -0.3879,  0.7417, -0.4678],\n",
       "       grad_fn=<ViewBackward0>)"
      ]
     },
     "execution_count": 5,
     "metadata": {},
     "output_type": "execute_result"
    }
   ],
   "source": [
    "# 词嵌入 Embedding (词向量 word vector) -> 1024\n",
    "embedding_layer = nn.Linear(4, 1024)\n",
    "\n",
    "embedded = vocab.get_dummies(\"Orange\")\n",
    "embedded = embedding_layer(embedded)\n",
    "embedded"
   ]
  },
  {
   "cell_type": "markdown",
   "id": "477e4157-7e49-4dc3-8de9-7c09c5d8cd3b",
   "metadata": {
    "jp-MarkdownHeadingCollapsed": true
   },
   "source": [
    "### 7.2 文本预处理\n",
    "\n",
    "- 读取文本文件，构建一个文本预处理函数用于处理其中的每一行\n",
    "    - 过滤掉所有的标点符号\n",
    "    - 单词全部转化为小写形式\n",
    "    - ......\n",
    "- 将每一行的文本预料，转化为一个字符串列表 `List[Str]`\n",
    "- 所有文本列表中的单词，添加到我们的Vocab词汇表中"
   ]
  },
  {
   "cell_type": "code",
   "execution_count": 6,
   "id": "740a1edc-0c05-4a3b-914b-15db23aca4eb",
   "metadata": {},
   "outputs": [
    {
     "data": {
      "text/html": [
       "<div>\n",
       "<style scoped>\n",
       "    .dataframe tbody tr th:only-of-type {\n",
       "        vertical-align: middle;\n",
       "    }\n",
       "\n",
       "    .dataframe tbody tr th {\n",
       "        vertical-align: top;\n",
       "    }\n",
       "\n",
       "    .dataframe thead th {\n",
       "        text-align: right;\n",
       "    }\n",
       "</style>\n",
       "<table border=\"1\" class=\"dataframe\">\n",
       "  <thead>\n",
       "    <tr style=\"text-align: right;\">\n",
       "      <th></th>\n",
       "      <th>review_body</th>\n",
       "      <th>sentiment</th>\n",
       "    </tr>\n",
       "  </thead>\n",
       "  <tbody>\n",
       "    <tr>\n",
       "      <th>0</th>\n",
       "      <td>Great love it</td>\n",
       "      <td>1</td>\n",
       "    </tr>\n",
       "    <tr>\n",
       "      <th>1</th>\n",
       "      <td>Lots of ads&lt;br /&gt;Slow processing speed&lt;br /&gt;Oc...</td>\n",
       "      <td>0</td>\n",
       "    </tr>\n",
       "    <tr>\n",
       "      <th>2</th>\n",
       "      <td>Excellent unit.  The versatility of this table...</td>\n",
       "      <td>1</td>\n",
       "    </tr>\n",
       "    <tr>\n",
       "      <th>3</th>\n",
       "      <td>I bought this on Amazon Prime so I ended up bu...</td>\n",
       "      <td>1</td>\n",
       "    </tr>\n",
       "    <tr>\n",
       "      <th>4</th>\n",
       "      <td>All Amazon products continue to meet my expect...</td>\n",
       "      <td>1</td>\n",
       "    </tr>\n",
       "    <tr>\n",
       "      <th>...</th>\n",
       "      <td>...</td>\n",
       "      <td>...</td>\n",
       "    </tr>\n",
       "    <tr>\n",
       "      <th>30841</th>\n",
       "      <td>[[VIDEOID:moP3B6GS5RL8LY]]I purchased the orig...</td>\n",
       "      <td>1</td>\n",
       "    </tr>\n",
       "    <tr>\n",
       "      <th>30842</th>\n",
       "      <td>I'm writing this review with the benefit of be...</td>\n",
       "      <td>1</td>\n",
       "    </tr>\n",
       "    <tr>\n",
       "      <th>30843</th>\n",
       "      <td>I purchased this Kindle for my grandma, becaus...</td>\n",
       "      <td>1</td>\n",
       "    </tr>\n",
       "    <tr>\n",
       "      <th>30844</th>\n",
       "      <td>I bought my tablet Fire HD 7 at Best Buy on th...</td>\n",
       "      <td>1</td>\n",
       "    </tr>\n",
       "    <tr>\n",
       "      <th>30845</th>\n",
       "      <td>Am impressive piece of hardware for the $. No ...</td>\n",
       "      <td>1</td>\n",
       "    </tr>\n",
       "  </tbody>\n",
       "</table>\n",
       "<p>30846 rows × 2 columns</p>\n",
       "</div>"
      ],
      "text/plain": [
       "                                             review_body  sentiment\n",
       "0                                          Great love it          1\n",
       "1      Lots of ads<br />Slow processing speed<br />Oc...          0\n",
       "2      Excellent unit.  The versatility of this table...          1\n",
       "3      I bought this on Amazon Prime so I ended up bu...          1\n",
       "4      All Amazon products continue to meet my expect...          1\n",
       "...                                                  ...        ...\n",
       "30841  [[VIDEOID:moP3B6GS5RL8LY]]I purchased the orig...          1\n",
       "30842  I'm writing this review with the benefit of be...          1\n",
       "30843  I purchased this Kindle for my grandma, becaus...          1\n",
       "30844  I bought my tablet Fire HD 7 at Best Buy on th...          1\n",
       "30845  Am impressive piece of hardware for the $. No ...          1\n",
       "\n",
       "[30846 rows x 2 columns]"
      ]
     },
     "execution_count": 6,
     "metadata": {},
     "output_type": "execute_result"
    }
   ],
   "source": [
    "import pandas as pd\n",
    "\n",
    "df_text = pd.read_csv(\"E:\\文件\\Amazon-Product-Reviews - Amazon Product Review.csv\")[[\"review_body\", \"sentiment\"]]\n",
    "df_text"
   ]
  },
  {
   "cell_type": "code",
   "execution_count": 7,
   "id": "4fdfef29-a083-4fab-914c-a0c4f4a416dd",
   "metadata": {},
   "outputs": [],
   "source": [
    "def text_preprocessing(doc: str) -> list:\n",
    "    \"\"\" 文本预处理 \"\"\"\n",
    "    stop_words = [\",\", \".\", \"!\", \"?\", \"=\", r\"\\n\", \"'\", '\"', \"(\", \")\", \"[\", \"]\", \"a\", \"an\", \"the\", \"<br\", \"/>\"]\n",
    "    items = doc.split(\" \")\n",
    "    return [item.lower() for item in items if item not in stop_words]"
   ]
  },
  {
   "cell_type": "code",
   "execution_count": 8,
   "id": "a374444c-6ae5-4633-be89-0049adf05d61",
   "metadata": {},
   "outputs": [
    {
     "data": {
      "text/plain": [
       "['lots', 'of', 'ads<br', '/>slow', 'processing', 'speed<br']"
      ]
     },
     "execution_count": 8,
     "metadata": {},
     "output_type": "execute_result"
    }
   ],
   "source": [
    "text_preprocessing(\"Lots of ads<br />Slow processing speed<br />\")"
   ]
  },
  {
   "cell_type": "code",
   "execution_count": 9,
   "id": "a3148224-aace-4f04-9a18-25bfcbcc068c",
   "metadata": {},
   "outputs": [
    {
     "data": {
      "text/html": [
       "<div>\n",
       "<style scoped>\n",
       "    .dataframe tbody tr th:only-of-type {\n",
       "        vertical-align: middle;\n",
       "    }\n",
       "\n",
       "    .dataframe tbody tr th {\n",
       "        vertical-align: top;\n",
       "    }\n",
       "\n",
       "    .dataframe thead th {\n",
       "        text-align: right;\n",
       "    }\n",
       "</style>\n",
       "<table border=\"1\" class=\"dataframe\">\n",
       "  <thead>\n",
       "    <tr style=\"text-align: right;\">\n",
       "      <th></th>\n",
       "      <th>review_body</th>\n",
       "      <th>sentiment</th>\n",
       "      <th>review_words</th>\n",
       "      <th>review_words_count</th>\n",
       "    </tr>\n",
       "  </thead>\n",
       "  <tbody>\n",
       "    <tr>\n",
       "      <th>0</th>\n",
       "      <td>Great love it</td>\n",
       "      <td>1</td>\n",
       "      <td>[great, love, it]</td>\n",
       "      <td>3</td>\n",
       "    </tr>\n",
       "    <tr>\n",
       "      <th>1</th>\n",
       "      <td>Lots of ads&lt;br /&gt;Slow processing speed&lt;br /&gt;Oc...</td>\n",
       "      <td>0</td>\n",
       "      <td>[lots, of, ads&lt;br, /&gt;slow, processing, speed&lt;b...</td>\n",
       "      <td>25</td>\n",
       "    </tr>\n",
       "    <tr>\n",
       "      <th>2</th>\n",
       "      <td>Excellent unit.  The versatility of this table...</td>\n",
       "      <td>1</td>\n",
       "      <td>[excellent, unit., , the, versatility, of, thi...</td>\n",
       "      <td>110</td>\n",
       "    </tr>\n",
       "    <tr>\n",
       "      <th>3</th>\n",
       "      <td>I bought this on Amazon Prime so I ended up bu...</td>\n",
       "      <td>1</td>\n",
       "      <td>[i, bought, this, on, amazon, prime, so, i, en...</td>\n",
       "      <td>202</td>\n",
       "    </tr>\n",
       "    <tr>\n",
       "      <th>4</th>\n",
       "      <td>All Amazon products continue to meet my expect...</td>\n",
       "      <td>1</td>\n",
       "      <td>[all, amazon, products, continue, to, meet, my...</td>\n",
       "      <td>8</td>\n",
       "    </tr>\n",
       "    <tr>\n",
       "      <th>...</th>\n",
       "      <td>...</td>\n",
       "      <td>...</td>\n",
       "      <td>...</td>\n",
       "      <td>...</td>\n",
       "    </tr>\n",
       "    <tr>\n",
       "      <th>30841</th>\n",
       "      <td>[[VIDEOID:moP3B6GS5RL8LY]]I purchased the orig...</td>\n",
       "      <td>1</td>\n",
       "      <td>[[[videoid:mop3b6gs5rl8ly]]i, purchased, origi...</td>\n",
       "      <td>1941</td>\n",
       "    </tr>\n",
       "    <tr>\n",
       "      <th>30842</th>\n",
       "      <td>I'm writing this review with the benefit of be...</td>\n",
       "      <td>1</td>\n",
       "      <td>[i'm, writing, this, review, with, benefit, of...</td>\n",
       "      <td>1852</td>\n",
       "    </tr>\n",
       "    <tr>\n",
       "      <th>30843</th>\n",
       "      <td>I purchased this Kindle for my grandma, becaus...</td>\n",
       "      <td>1</td>\n",
       "      <td>[i, purchased, this, kindle, for, my, grandma,...</td>\n",
       "      <td>346</td>\n",
       "    </tr>\n",
       "    <tr>\n",
       "      <th>30844</th>\n",
       "      <td>I bought my tablet Fire HD 7 at Best Buy on th...</td>\n",
       "      <td>1</td>\n",
       "      <td>[i, bought, my, tablet, fire, hd, 7, at, best,...</td>\n",
       "      <td>285</td>\n",
       "    </tr>\n",
       "    <tr>\n",
       "      <th>30845</th>\n",
       "      <td>Am impressive piece of hardware for the $. No ...</td>\n",
       "      <td>1</td>\n",
       "      <td>[am, impressive, piece, of, hardware, for, $.,...</td>\n",
       "      <td>12</td>\n",
       "    </tr>\n",
       "  </tbody>\n",
       "</table>\n",
       "<p>30846 rows × 4 columns</p>\n",
       "</div>"
      ],
      "text/plain": [
       "                                             review_body  sentiment  \\\n",
       "0                                          Great love it          1   \n",
       "1      Lots of ads<br />Slow processing speed<br />Oc...          0   \n",
       "2      Excellent unit.  The versatility of this table...          1   \n",
       "3      I bought this on Amazon Prime so I ended up bu...          1   \n",
       "4      All Amazon products continue to meet my expect...          1   \n",
       "...                                                  ...        ...   \n",
       "30841  [[VIDEOID:moP3B6GS5RL8LY]]I purchased the orig...          1   \n",
       "30842  I'm writing this review with the benefit of be...          1   \n",
       "30843  I purchased this Kindle for my grandma, becaus...          1   \n",
       "30844  I bought my tablet Fire HD 7 at Best Buy on th...          1   \n",
       "30845  Am impressive piece of hardware for the $. No ...          1   \n",
       "\n",
       "                                            review_words  review_words_count  \n",
       "0                                      [great, love, it]                   3  \n",
       "1      [lots, of, ads<br, />slow, processing, speed<b...                  25  \n",
       "2      [excellent, unit., , the, versatility, of, thi...                 110  \n",
       "3      [i, bought, this, on, amazon, prime, so, i, en...                 202  \n",
       "4      [all, amazon, products, continue, to, meet, my...                   8  \n",
       "...                                                  ...                 ...  \n",
       "30841  [[[videoid:mop3b6gs5rl8ly]]i, purchased, origi...                1941  \n",
       "30842  [i'm, writing, this, review, with, benefit, of...                1852  \n",
       "30843  [i, purchased, this, kindle, for, my, grandma,...                 346  \n",
       "30844  [i, bought, my, tablet, fire, hd, 7, at, best,...                 285  \n",
       "30845  [am, impressive, piece, of, hardware, for, $.,...                  12  \n",
       "\n",
       "[30846 rows x 4 columns]"
      ]
     },
     "execution_count": 9,
     "metadata": {},
     "output_type": "execute_result"
    }
   ],
   "source": [
    "df_text[\"review_words\"] = df_text[\"review_body\"].apply(lambda x: text_preprocessing(str(x)))\n",
    "df_text[\"review_words_count\"] = df_text[\"review_words\"].apply(lambda x: len(x))\n",
    "\n",
    "df_text"
   ]
  },
  {
   "cell_type": "code",
   "execution_count": 10,
   "id": "0710e090-6428-4d76-bf49-5858a64e3f28",
   "metadata": {},
   "outputs": [
    {
     "data": {
      "text/plain": [
       "(2216, 0)"
      ]
     },
     "execution_count": 10,
     "metadata": {},
     "output_type": "execute_result"
    }
   ],
   "source": [
    "df_text.review_words_count.max(), df_text.review_words_count.min()"
   ]
  },
  {
   "cell_type": "code",
   "execution_count": 11,
   "id": "8e07124e-8c31-40d3-bcfc-56a8cd82d0de",
   "metadata": {},
   "outputs": [],
   "source": [
    "vocab = Vocab()\n",
    "vocab.add(\"<PAD>\")\n",
    "\n",
    "for idx, row in df_text.iterrows():\n",
    "    for word in row.review_words:\n",
    "        vocab.add(word)"
   ]
  },
  {
   "cell_type": "code",
   "execution_count": 12,
   "id": "0041c10b-f5b9-44fe-b89b-f14c56c85f01",
   "metadata": {},
   "outputs": [
    {
     "data": {
      "text/plain": [
       "38177"
      ]
     },
     "execution_count": 12,
     "metadata": {},
     "output_type": "execute_result"
    }
   ],
   "source": [
    "len(vocab)"
   ]
  },
  {
   "cell_type": "code",
   "execution_count": 13,
   "id": "02e912c0-c14e-4065-8050-3e5fb415a91c",
   "metadata": {},
   "outputs": [
    {
     "data": {
      "text/html": [
       "<div>\n",
       "<style scoped>\n",
       "    .dataframe tbody tr th:only-of-type {\n",
       "        vertical-align: middle;\n",
       "    }\n",
       "\n",
       "    .dataframe tbody tr th {\n",
       "        vertical-align: top;\n",
       "    }\n",
       "\n",
       "    .dataframe thead th {\n",
       "        text-align: right;\n",
       "    }\n",
       "</style>\n",
       "<table border=\"1\" class=\"dataframe\">\n",
       "  <thead>\n",
       "    <tr style=\"text-align: right;\">\n",
       "      <th></th>\n",
       "      <th>review_body</th>\n",
       "      <th>sentiment</th>\n",
       "      <th>review_words</th>\n",
       "      <th>review_words_count</th>\n",
       "      <th>reviews_tokens</th>\n",
       "    </tr>\n",
       "  </thead>\n",
       "  <tbody>\n",
       "    <tr>\n",
       "      <th>0</th>\n",
       "      <td>Great love it</td>\n",
       "      <td>1</td>\n",
       "      <td>[great, love, it]</td>\n",
       "      <td>3</td>\n",
       "      <td>[1, 2, 3]</td>\n",
       "    </tr>\n",
       "    <tr>\n",
       "      <th>1</th>\n",
       "      <td>Lots of ads&lt;br /&gt;Slow processing speed&lt;br /&gt;Oc...</td>\n",
       "      <td>0</td>\n",
       "      <td>[lots, of, ads&lt;br, /&gt;slow, processing, speed&lt;b...</td>\n",
       "      <td>25</td>\n",
       "      <td>[4, 5, 6, 7, 8, 9, 10, 11, 12, 13, 14, 15, 16,...</td>\n",
       "    </tr>\n",
       "    <tr>\n",
       "      <th>2</th>\n",
       "      <td>Excellent unit.  The versatility of this table...</td>\n",
       "      <td>1</td>\n",
       "      <td>[excellent, unit., , the, versatility, of, thi...</td>\n",
       "      <td>110</td>\n",
       "      <td>[29, 30, 31, 32, 33, 5, 34, 35, 36, 37, 38, 39...</td>\n",
       "    </tr>\n",
       "    <tr>\n",
       "      <th>3</th>\n",
       "      <td>I bought this on Amazon Prime so I ended up bu...</td>\n",
       "      <td>1</td>\n",
       "      <td>[i, bought, this, on, amazon, prime, so, i, en...</td>\n",
       "      <td>202</td>\n",
       "      <td>[26, 115, 34, 54, 116, 117, 118, 26, 119, 120,...</td>\n",
       "    </tr>\n",
       "    <tr>\n",
       "      <th>4</th>\n",
       "      <td>All Amazon products continue to meet my expect...</td>\n",
       "      <td>1</td>\n",
       "      <td>[all, amazon, products, continue, to, meet, my...</td>\n",
       "      <td>8</td>\n",
       "      <td>[131, 116, 202, 203, 42, 204, 76, 205]</td>\n",
       "    </tr>\n",
       "    <tr>\n",
       "      <th>...</th>\n",
       "      <td>...</td>\n",
       "      <td>...</td>\n",
       "      <td>...</td>\n",
       "      <td>...</td>\n",
       "      <td>...</td>\n",
       "    </tr>\n",
       "    <tr>\n",
       "      <th>30841</th>\n",
       "      <td>[[VIDEOID:moP3B6GS5RL8LY]]I purchased the orig...</td>\n",
       "      <td>1</td>\n",
       "      <td>[[[videoid:mop3b6gs5rl8ly]]i, purchased, origi...</td>\n",
       "      <td>1941</td>\n",
       "      <td>[37987, 175, 1047, 163, 77, 59, 7659, 24, 429,...</td>\n",
       "    </tr>\n",
       "    <tr>\n",
       "      <th>30842</th>\n",
       "      <td>I'm writing this review with the benefit of be...</td>\n",
       "      <td>1</td>\n",
       "      <td>[i'm, writing, this, review, with, benefit, of...</td>\n",
       "      <td>1852</td>\n",
       "      <td>[427, 1660, 34, 664, 49, 5068, 5, 37, 2474, 16...</td>\n",
       "    </tr>\n",
       "    <tr>\n",
       "      <th>30843</th>\n",
       "      <td>I purchased this Kindle for my grandma, becaus...</td>\n",
       "      <td>1</td>\n",
       "      <td>[i, purchased, this, kindle, for, my, grandma,...</td>\n",
       "      <td>346</td>\n",
       "      <td>[26, 175, 34, 163, 22, 76, 4116, 176, 26, 150,...</td>\n",
       "    </tr>\n",
       "    <tr>\n",
       "      <th>30844</th>\n",
       "      <td>I bought my tablet Fire HD 7 at Best Buy on th...</td>\n",
       "      <td>1</td>\n",
       "      <td>[i, bought, my, tablet, fire, hd, 7, at, best,...</td>\n",
       "      <td>285</td>\n",
       "      <td>[26, 115, 76, 23, 77, 331, 817, 234, 469, 388,...</td>\n",
       "    </tr>\n",
       "    <tr>\n",
       "      <th>30845</th>\n",
       "      <td>Am impressive piece of hardware for the $. No ...</td>\n",
       "      <td>1</td>\n",
       "      <td>[am, impressive, piece, of, hardware, for, $.,...</td>\n",
       "      <td>12</td>\n",
       "      <td>[144, 3808, 2491, 5, 2901, 22, 16420, 303, 230...</td>\n",
       "    </tr>\n",
       "  </tbody>\n",
       "</table>\n",
       "<p>30846 rows × 5 columns</p>\n",
       "</div>"
      ],
      "text/plain": [
       "                                             review_body  sentiment  \\\n",
       "0                                          Great love it          1   \n",
       "1      Lots of ads<br />Slow processing speed<br />Oc...          0   \n",
       "2      Excellent unit.  The versatility of this table...          1   \n",
       "3      I bought this on Amazon Prime so I ended up bu...          1   \n",
       "4      All Amazon products continue to meet my expect...          1   \n",
       "...                                                  ...        ...   \n",
       "30841  [[VIDEOID:moP3B6GS5RL8LY]]I purchased the orig...          1   \n",
       "30842  I'm writing this review with the benefit of be...          1   \n",
       "30843  I purchased this Kindle for my grandma, becaus...          1   \n",
       "30844  I bought my tablet Fire HD 7 at Best Buy on th...          1   \n",
       "30845  Am impressive piece of hardware for the $. No ...          1   \n",
       "\n",
       "                                            review_words  review_words_count  \\\n",
       "0                                      [great, love, it]                   3   \n",
       "1      [lots, of, ads<br, />slow, processing, speed<b...                  25   \n",
       "2      [excellent, unit., , the, versatility, of, thi...                 110   \n",
       "3      [i, bought, this, on, amazon, prime, so, i, en...                 202   \n",
       "4      [all, amazon, products, continue, to, meet, my...                   8   \n",
       "...                                                  ...                 ...   \n",
       "30841  [[[videoid:mop3b6gs5rl8ly]]i, purchased, origi...                1941   \n",
       "30842  [i'm, writing, this, review, with, benefit, of...                1852   \n",
       "30843  [i, purchased, this, kindle, for, my, grandma,...                 346   \n",
       "30844  [i, bought, my, tablet, fire, hd, 7, at, best,...                 285   \n",
       "30845  [am, impressive, piece, of, hardware, for, $.,...                  12   \n",
       "\n",
       "                                          reviews_tokens  \n",
       "0                                              [1, 2, 3]  \n",
       "1      [4, 5, 6, 7, 8, 9, 10, 11, 12, 13, 14, 15, 16,...  \n",
       "2      [29, 30, 31, 32, 33, 5, 34, 35, 36, 37, 38, 39...  \n",
       "3      [26, 115, 34, 54, 116, 117, 118, 26, 119, 120,...  \n",
       "4                 [131, 116, 202, 203, 42, 204, 76, 205]  \n",
       "...                                                  ...  \n",
       "30841  [37987, 175, 1047, 163, 77, 59, 7659, 24, 429,...  \n",
       "30842  [427, 1660, 34, 664, 49, 5068, 5, 37, 2474, 16...  \n",
       "30843  [26, 175, 34, 163, 22, 76, 4116, 176, 26, 150,...  \n",
       "30844  [26, 115, 76, 23, 77, 331, 817, 234, 469, 388,...  \n",
       "30845  [144, 3808, 2491, 5, 2901, 22, 16420, 303, 230...  \n",
       "\n",
       "[30846 rows x 5 columns]"
      ]
     },
     "execution_count": 13,
     "metadata": {},
     "output_type": "execute_result"
    }
   ],
   "source": [
    "df_text[\"reviews_tokens\"] = df_text[\"review_words\"].apply(lambda x: [vocab.word2idx.get(token) for token in x])\n",
    "df_text"
   ]
  },
  {
   "cell_type": "markdown",
   "id": "02f8d03f-124a-4821-ae1f-11f4a3b79e56",
   "metadata": {},
   "source": [
    "### 7.3 文本情感分析 Sentiment Analysis"
   ]
  },
  {
   "cell_type": "code",
   "execution_count": 14,
   "id": "cf73e0fd-9f49-4b4f-a813-6362640c122f",
   "metadata": {},
   "outputs": [
    {
     "data": {
      "text/plain": [
       "(23134, 7712)"
      ]
     },
     "execution_count": 14,
     "metadata": {},
     "output_type": "execute_result"
    }
   ],
   "source": [
    "# 1. 构建数据集\n",
    "from torch.utils.data import Dataset, DataLoader\n",
    "\n",
    "class TextSentimentDataset(Dataset):\n",
    "    def __init__(self, reviews_tokens, sentiment, seq_len: int=20):\n",
    "        self.label = sentiment\n",
    "        self.data = []\n",
    "        for line in reviews_tokens:\n",
    "            if len(line[:seq_len])<seq_len:\n",
    "                self.data.append(line[:seq_len] + [vocab.word2idx.get(\"<PAD>\")] * (seq_len - len(line)))\n",
    "            else:\n",
    "                self.data.append(line[:seq_len])\n",
    "\n",
    "    def __len__(self):\n",
    "        return len(self.data)\n",
    "\n",
    "    def __getitem__(self, idx):\n",
    "        return torch.tensor(self.data[idx]), torch.tensor(self.label[idx])\n",
    "\n",
    "from sklearn.model_selection import train_test_split\n",
    "\n",
    "# 假设 X 是特征数据，y 是标签数据\n",
    "X_train, X_test, y_train, y_test = train_test_split(df_text.reviews_tokens.values, df_text.sentiment.values, test_size=0.25, random_state=42)\n",
    "\n",
    "train_dataset = TextSentimentDataset(X_train, y_train)\n",
    "test_dataset = TextSentimentDataset(X_test, y_test)\n",
    "\n",
    "train_dataloader = DataLoader(train_dataset, batch_size=16, shuffle=True, drop_last=True)\n",
    "test_dataloader = DataLoader(test_dataset, batch_size=16, shuffle=False, drop_last=True)\n",
    "\n",
    "len(train_dataset), len(test_dataset)"
   ]
  },
  {
   "cell_type": "code",
   "execution_count": 15,
   "id": "51ab5529-5b39-4fc8-bb97-e5e45344fbf7",
   "metadata": {},
   "outputs": [
    {
     "data": {
      "text/plain": [
       "(torch.Size([16, 20]), torch.Size([16]))"
      ]
     },
     "execution_count": 15,
     "metadata": {},
     "output_type": "execute_result"
    }
   ],
   "source": [
    "x, y = test_dataset[:16]\n",
    "x.shape, y.shape"
   ]
  },
  {
   "cell_type": "code",
   "execution_count": 16,
   "id": "72111b0d-41ed-4f16-9ec6-2024d8182fba",
   "metadata": {},
   "outputs": [
    {
     "data": {
      "text/plain": [
       "(torch.Size([16, 20]), torch.Size([16]))"
      ]
     },
     "execution_count": 16,
     "metadata": {},
     "output_type": "execute_result"
    }
   ],
   "source": [
    "x, y = train_dataset[:16]\n",
    "x.shape, y.shape"
   ]
  },
  {
   "cell_type": "code",
   "execution_count": 17,
   "id": "6032c51d-8c4a-423c-a826-490d9b72f599",
   "metadata": {},
   "outputs": [],
   "source": [
    "# 2. 模型构建\n",
    "class TextSentimentClassifer(nn.Module):\n",
    "    \"\"\" 文本情感分类器 \"\"\"\n",
    "    def __init__(self, vocab_size, seq_len, input_size, hidden_size, num_layers):\n",
    "        super().__init__()\n",
    "        self.embedding = nn.Embedding(vocab_size, input_size)\n",
    "        self.rnn = nn.LSTM(input_size, hidden_size, num_layers)\n",
    "        self.classifier = nn.Sequential(nn.Flatten(), \n",
    "                                        nn.Linear(seq_len * hidden_size, hidden_size//4), \n",
    "                                        nn.PReLU(), \n",
    "                                        nn.Linear(hidden_size//4, 4))\n",
    "\n",
    "    def forward(self, x):\n",
    "        \"\"\" 前向传播方法 \"\"\"\n",
    "        # x: [batch_size, seq_len]\n",
    "        # print(f\"x: {x.shape}\")\n",
    "        \n",
    "        embedded = self.embedding(x) # embedded: [batch_size, seq_len, input_size]\n",
    "        # print(f\"embedded: {embedded.shape}\")\n",
    "        \n",
    "        output, _ = self.rnn(embedded)  # output: [batch_size, seq_len, hidden_size]\n",
    "        # print(f\"output: {output.shape}\")\n",
    "        \n",
    "        return self.classifier(output)  # [batch_size, 2]"
   ]
  },
  {
   "cell_type": "code",
   "execution_count": 18,
   "id": "0c97e216-f74d-42f3-a43c-554797adec1b",
   "metadata": {},
   "outputs": [],
   "source": [
    "device = torch.device(\"cuda\") if torch.cuda.is_available() else torch.device(\"cpu\")\n",
    "\n",
    "model = TextSentimentClassifer(vocab_size=len(vocab), \n",
    "                               seq_len=20, \n",
    "                               input_size=32, \n",
    "                               hidden_size=64, \n",
    "                               num_layers=4)\n",
    "model.to(device)\n",
    "\n",
    "loss_func = nn.CrossEntropyLoss()\n",
    "optimizer = torch.optim.Adam(model.parameters(), lr=1e-5)"
   ]
  },
  {
   "cell_type": "code",
   "execution_count": 19,
   "id": "6a11a226-b021-4488-8cb1-6f6fb23cd30c",
   "metadata": {},
   "outputs": [
    {
     "data": {
      "text/plain": [
       "torch.Size([16, 4])"
      ]
     },
     "execution_count": 19,
     "metadata": {},
     "output_type": "execute_result"
    }
   ],
   "source": [
    "model(torch.zeros(16, 20).long().to(device)).shape"
   ]
  },
  {
   "cell_type": "code",
   "execution_count": 20,
   "id": "c17c1299-8f09-466b-a84e-439ebcecdfc9",
   "metadata": {},
   "outputs": [],
   "source": [
    "# 3. 训练模型\n",
    "def train_model(model, train_dataloader, loss_func, optimizer):\n",
    "    \"\"\" 模型训练函数 \"\"\"\n",
    "    total_loss = 0.\n",
    "    for x, y in train_dataloader:\n",
    "        y_hat = model(x.to(device))\n",
    "        loss = loss_func(y_hat, y.to(device))\n",
    "\n",
    "        optimizer.zero_grad()\n",
    "        loss.backward()\n",
    "        optimizer.step()\n",
    "        total_loss += loss.item()\n",
    "    print(f\"Train Loss: {total_loss/len(train_dataloader): .4f}\")\n",
    "    return total_loss/len(train_dataloader)\n",
    "\n",
    "# 4. 验证模型\n",
    "def test_model(model, test_dataloader, loss_func):\n",
    "    \"\"\" 训练模型 \"\"\"\n",
    "    total_loss = 0.\n",
    "\n",
    "    model.eval() # 打开模型验证模式，所有参数冻结不可被调整\n",
    "    for x, y in test_dataloader:\n",
    "        y_hat = model(x.to(device))\n",
    "        loss = loss_func(y_hat, y.to(device))\n",
    "        \n",
    "        total_loss += loss.item()\n",
    "    print(f\"Total loss: {total_loss/len(test_dataloader): 0.4f}\")\n",
    "    model.train()\n",
    "    return total_loss/len(test_dataloader)"
   ]
  },
  {
   "cell_type": "code",
   "execution_count": 21,
   "id": "b1e8bdac-001c-41dd-b8f0-0df53fe4b6b4",
   "metadata": {
    "jupyter": {
     "outputs_hidden": true
    }
   },
   "outputs": [
    {
     "name": "stdout",
     "output_type": "stream",
     "text": [
      "Train Loss:  0.8456\n",
      "Total loss:  0.5920\n",
      "Train Loss:  0.5386\n",
      "Total loss:  0.4948\n",
      "Train Loss:  0.4855\n",
      "Total loss:  0.4710\n",
      "Train Loss:  0.4691\n",
      "Total loss:  0.4595\n",
      "Train Loss:  0.4590\n",
      "Total loss:  0.4530\n",
      "Train Loss:  0.4531\n",
      "Total loss:  0.4478\n",
      "Train Loss:  0.4488\n",
      "Total loss:  0.4451\n",
      "Train Loss:  0.4465\n",
      "Total loss:  0.4427\n",
      "Train Loss:  0.4431\n",
      "Total loss:  0.4390\n",
      "Train Loss:  0.4395\n",
      "Total loss:  0.4337\n",
      "Train Loss:  0.4331\n",
      "Total loss:  0.4266\n",
      "Train Loss:  0.4257\n",
      "Total loss:  0.4202\n",
      "Train Loss:  0.4202\n",
      "Total loss:  0.4168\n",
      "Train Loss:  0.4177\n",
      "Total loss:  0.4159\n",
      "Train Loss:  0.4158\n",
      "Total loss:  0.4144\n",
      "Train Loss:  0.4157\n",
      "Total loss:  0.4130\n",
      "Train Loss:  0.4136\n",
      "Total loss:  0.4119\n",
      "Train Loss:  0.4132\n",
      "Total loss:  0.4110\n",
      "Train Loss:  0.4108\n",
      "Total loss:  0.4089\n",
      "Train Loss:  0.4085\n",
      "Total loss:  0.4069\n",
      "Train Loss:  0.4068\n",
      "Total loss:  0.4046\n",
      "Train Loss:  0.4036\n",
      "Total loss:  0.4017\n",
      "Train Loss:  0.4007\n",
      "Total loss:  0.3989\n",
      "Train Loss:  0.3978\n",
      "Total loss:  0.3957\n",
      "Train Loss:  0.3950\n",
      "Total loss:  0.3932\n",
      "Train Loss:  0.3914\n",
      "Total loss:  0.3897\n",
      "Train Loss:  0.3890\n",
      "Total loss:  0.3873\n",
      "Train Loss:  0.3868\n",
      "Total loss:  0.3845\n",
      "Train Loss:  0.3851\n",
      "Total loss:  0.3830\n",
      "Train Loss:  0.3833\n",
      "Total loss:  0.3806\n"
     ]
    }
   ],
   "source": [
    "epoch = 30\n",
    "\n",
    "train_loss_records = []\n",
    "test_loss_records = []\n",
    "\n",
    "for i in range(epoch):\n",
    "    train_loss = train_model(model, train_dataloader, loss_func, optimizer)\n",
    "    test_loss = test_model(model, test_dataloader, loss_func)\n",
    "    \n",
    "    train_loss_records.append(train_loss)\n",
    "    test_loss_records.append(test_loss)"
   ]
  },
  {
   "cell_type": "code",
   "execution_count": 32,
   "id": "10790234-579b-4f6a-8f8d-623b37ba7813",
   "metadata": {},
   "outputs": [
    {
     "data": {
      "image/png": "[encoded data removed]",
      "text/plain": [
       "<Figure size 800x400 with 1 Axes>"
      ]
     },
     "metadata": {},
     "output_type": "display_data"
    }
   ],
   "source": [
    "import matplotlib.pyplot as plt\n",
    "import os\n",
    "os.environ['KMP_DUPLICATE_LIB_OK'] = 'True'\n",
    "\n",
    "plt.figure(figsize=(8, 4))\n",
    "plt.plot(train_loss_records, label=\"train loss\")\n",
    "plt.plot(test_loss_records, label=\"test loss\")\n",
    "plt.title(\"Linear Model Train Loss\")\n",
    "plt.legend()\n",
    "\n",
    "plt.grid()\n",
    "plt.show()"
   ]
  },
  {
   "cell_type": "code",
   "execution_count": null,
   "id": "b71afda4-62a9-4921-99c8-c7e893c10289",
   "metadata": {},
   "outputs": [],
   "source": []
  }
 ],
 "metadata": {
  "kernelspec": {
   "display_name": "Python 3 (ipykernel)",
   "language": "python",
   "name": "python3"
  },
  "language_info": {
   "codemirror_mode": {
    "name": "ipython",
    "version": 3
   },
   "file_extension": ".py",
   "mimetype": "text/x-python",
   "name": "python",
   "nbconvert_exporter": "python",
   "pygments_lexer": "ipython3",
   "version": "3.9.13"
  }
 },
 "nbformat": 4,
 "nbformat_minor": 5
}
