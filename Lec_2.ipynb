{
 "cells": [
  {
   "cell_type": "markdown",
   "id": "a4a21e84-b0ed-4b1c-8e10-4c79c9f6bce0",
   "metadata": {},
   "source": [
    "## Lec 2. 线性神经网络 Linear Neural Network\n",
    "\n",
    "- 线性回归 `Linear Regression`\n",
    "- 线性神经网络 `Linear Neural Network` -> 多层感知机 `MLP`\n",
    "    - 模型 Model: f(x) = x @ weight + bias -> y_hat\n",
    "        - nn.Module\n",
    "        - Activation 激活函数: tahn, sigmoid, relu, ......\n",
    "    - 数据集 Dataset: x(features), y_ture\n",
    "    - 损失函数 Loss Function: MSE, CrossEntropyLoss, ......\n",
    "    - 优化器 Optimizer: Adam, SGD, ......\n",
    "- 神经网络的训练流程\n",
    "    - 构建训练所需要的所有组件: 模型, 数据集, 损失函数, 优化器\n",
    "    - 前向传播: 将数据集中的 `features` 投入模型之中, 计算出预测值 `y_hat`\n",
    "    - 反向传播: 通过损失函数 `loss_func` 计算预测值 `y_hat`与实际值 `y_true` 之间的差异, 并且反向链式求导计算梯度\n",
    "    - 调整模型参数: 通过优化器 `optimizer` 调整模型参数\n",
    " \n",
    "### 2.1 简单的神经网络训练流程"
   ]
  },
  {
   "cell_type": "code",
   "execution_count": 1,
   "id": "4dd5e0dc-36bd-484a-9d74-58f1e5e9e2bd",
   "metadata": {},
   "outputs": [],
   "source": [
    "import torch\n",
    "import torch.nn as nn"
   ]
  },
  {
   "cell_type": "code",
   "execution_count": 2,
   "id": "19200ee3-70be-4f24-8ed4-7cb6b641487a",
   "metadata": {},
   "outputs": [
    {
     "data": {
      "text/plain": [
       "(torch.Size([16, 5]), torch.Size([16, 10]))"
      ]
     },
     "execution_count": 2,
     "metadata": {},
     "output_type": "execute_result"
    }
   ],
   "source": [
    "# 0. 构建模拟数据集\n",
    "x = torch.rand(16, 5)  # 数据集中的特征数据\n",
    "y_true = torch.rand(16, 10)  # 数据集的真实结果\n",
    "\n",
    "x.shape, y_true.shape"
   ]
  },
  {
   "cell_type": "code",
   "execution_count": 3,
   "id": "fc1565ca-a2a7-4b52-bb03-446de29b70ce",
   "metadata": {},
   "outputs": [
    {
     "data": {
      "text/plain": [
       "Linear(in_features=5, out_features=10, bias=True)"
      ]
     },
     "execution_count": 3,
     "metadata": {},
     "output_type": "execute_result"
    }
   ],
   "source": [
    "# 1. 创建训练模型所需要的所有组件\n",
    "loss_func = nn.MSELoss() # 定义损失函数\n",
    "net = nn.Linear(5, 10) # 定义简单的线性神经网络模型 net / full-connection\n",
    "optimizer = torch.optim.Adam(net.parameters(), lr=1e-4)  # 构建一个优化器的实例对象, learning rate 学习率\n",
    "\n",
    "net"
   ]
  },
  {
   "cell_type": "code",
   "execution_count": 4,
   "id": "9a083726-54ac-4b81-8cc6-36ca1c052963",
   "metadata": {},
   "outputs": [
    {
     "data": {
      "text/plain": [
       "torch.nn.modules.linear.Linear"
      ]
     },
     "execution_count": 4,
     "metadata": {},
     "output_type": "execute_result"
    }
   ],
   "source": [
    "type(net)"
   ]
  },
  {
   "cell_type": "code",
   "execution_count": 5,
   "id": "1d6ee266-3723-4667-bf15-ae564fed48d7",
   "metadata": {},
   "outputs": [
    {
     "data": {
      "text/plain": [
       "Parameter containing:\n",
       "tensor([[ 0.0738,  0.4266, -0.1658,  0.3947, -0.0689],\n",
       "        [-0.0538, -0.4006,  0.2922, -0.1405, -0.2711],\n",
       "        [ 0.2006,  0.0140, -0.1302,  0.3517, -0.1576],\n",
       "        [-0.1914, -0.4452, -0.1307,  0.3154,  0.1927],\n",
       "        [-0.1000, -0.0619, -0.3254,  0.1241, -0.1636],\n",
       "        [ 0.0851, -0.2980,  0.3102,  0.1490,  0.0890],\n",
       "        [ 0.4096,  0.0948, -0.2078, -0.0991, -0.1285],\n",
       "        [-0.3150, -0.0424, -0.2263, -0.2928, -0.3212],\n",
       "        [ 0.0613, -0.3653, -0.3518, -0.2550, -0.3309],\n",
       "        [-0.1167, -0.4104, -0.1118,  0.1361, -0.2952]], requires_grad=True)"
      ]
     },
     "execution_count": 5,
     "metadata": {},
     "output_type": "execute_result"
    }
   ],
   "source": [
    "net.weight"
   ]
  },
  {
   "cell_type": "code",
   "execution_count": 6,
   "id": "bf7cb595-0c24-4860-933e-d4b27846c9a1",
   "metadata": {},
   "outputs": [
    {
     "data": {
      "text/plain": [
       "Parameter containing:\n",
       "tensor([ 0.2788, -0.1838, -0.2571,  0.1715, -0.2176,  0.1837,  0.3104,  0.1337,\n",
       "        -0.1251, -0.4290], requires_grad=True)"
      ]
     },
     "execution_count": 6,
     "metadata": {},
     "output_type": "execute_result"
    }
   ],
   "source": [
    "net.bias"
   ]
  },
  {
   "cell_type": "code",
   "execution_count": 7,
   "id": "9af33e24-89d8-41a6-9139-ee6142242803",
   "metadata": {},
   "outputs": [
    {
     "data": {
      "text/plain": [
       "torch.Size([16, 10])"
      ]
     },
     "execution_count": 7,
     "metadata": {},
     "output_type": "execute_result"
    }
   ],
   "source": [
    "# 2. 前向传播\n",
    "y_hat = net(x)  # 模型预测的结果\n",
    "y_hat.shape"
   ]
  },
  {
   "cell_type": "code",
   "execution_count": 8,
   "id": "434afc7d-df67-49bf-b398-c95ffe69f639",
   "metadata": {},
   "outputs": [
    {
     "data": {
      "text/plain": [
       "tensor(0.8208, grad_fn=<MseLossBackward0>)"
      ]
     },
     "execution_count": 8,
     "metadata": {},
     "output_type": "execute_result"
    }
   ],
   "source": [
    "# 3. 反向传播\n",
    "loss = loss_func(y_hat, y_true)  # 计算出包含梯度的损失值\n",
    "loss"
   ]
  },
  {
   "cell_type": "code",
   "execution_count": 9,
   "id": "bc4c4db5-dc34-40a7-b8a8-9342b1337b8a",
   "metadata": {},
   "outputs": [],
   "source": [
    "loss.backward() # 反向传播链式求导, 对模型中的所有参数parameters标记梯度"
   ]
  },
  {
   "cell_type": "code",
   "execution_count": 10,
   "id": "31fa3e13-a38d-464b-a09b-bfc226d16809",
   "metadata": {},
   "outputs": [
    {
     "data": {
      "text/plain": [
       "Parameter containing:\n",
       "tensor([ 0.2788, -0.1838, -0.2571,  0.1715, -0.2176,  0.1837,  0.3104,  0.1337,\n",
       "        -0.1251, -0.4290], requires_grad=True)"
      ]
     },
     "execution_count": 10,
     "metadata": {},
     "output_type": "execute_result"
    }
   ],
   "source": [
    "net.bias"
   ]
  },
  {
   "cell_type": "code",
   "execution_count": 11,
   "id": "4c0e6cb8-555f-4959-bdcb-9ee9b3d5112a",
   "metadata": {},
   "outputs": [],
   "source": [
    "optimizer.step()"
   ]
  },
  {
   "cell_type": "code",
   "execution_count": 12,
   "id": "94f9877e-c106-4e93-a173-2e0f5229042a",
   "metadata": {},
   "outputs": [
    {
     "data": {
      "text/plain": [
       "Parameter containing:\n",
       "tensor([ 0.2787, -0.1837, -0.2570,  0.1716, -0.2175,  0.1838,  0.3105,  0.1338,\n",
       "        -0.1250, -0.4289], requires_grad=True)"
      ]
     },
     "execution_count": 12,
     "metadata": {},
     "output_type": "execute_result"
    }
   ],
   "source": [
    "net.bias"
   ]
  },
  {
   "cell_type": "markdown",
   "id": "be62fdd8-8e5e-42e7-a81f-5e7008be2c8e",
   "metadata": {},
   "source": [
    "### 2.2 线性神经网络实现`逻辑回归`\n",
    "\n",
    "- 逻辑回归 Logistics Regression: 分类模型\n",
    "- 模型输出分类概率值 -> 分类标签"
   ]
  },
  {
   "cell_type": "code",
   "execution_count": 13,
   "id": "9a14af8e-90e4-461e-ad11-8b9ac11e02d2",
   "metadata": {},
   "outputs": [],
   "source": [
    "import torch\n",
    "import torch.nn as nn\n",
    "\n",
    "import torch.nn.functional as F"
   ]
  },
  {
   "cell_type": "code",
   "execution_count": 14,
   "id": "70ef7fc2-e347-441e-a9b5-e0c8c845de38",
   "metadata": {},
   "outputs": [
    {
     "data": {
      "text/plain": [
       "(torch.Size([7, 1]), torch.Size([7, 1]))"
      ]
     },
     "execution_count": 14,
     "metadata": {},
     "output_type": "execute_result"
    }
   ],
   "source": [
    "# 0. 构建模拟数据集\n",
    "x = torch.Tensor([[1.5, ],  # 身高\n",
    "                  [1.46, ],\n",
    "                  [1.55, ],\n",
    "                  [1.6, ], \n",
    "                  [1.8, ],\n",
    "                  [1.96, ],\n",
    "                  [1.78, ]])\n",
    "\n",
    "y_true = torch.Tensor([[0], \n",
    "                       [0], \n",
    "                       [0], \n",
    "                       [0], \n",
    "                       [1], \n",
    "                       [1], \n",
    "                       [1]])  # 二分类问题的类别标签 [0, 1] (Female / Male)\n",
    "\n",
    "x.shape, y_true.shape"
   ]
  },
  {
   "cell_type": "code",
   "execution_count": 15,
   "id": "b1ba1aa0-570b-4fef-b598-813989afa01c",
   "metadata": {},
   "outputs": [],
   "source": [
    "# 1. 构建模型\n",
    "class LogisticRegression(nn.Module):\n",
    "    \"\"\" 基于线性神经网络的逻辑回归模型 \"\"\"\n",
    "    def __init__(self):\n",
    "        super().__init__()\n",
    "        self.fc = nn.Linear(1, 1)\n",
    "\n",
    "    def forward(self, x):\n",
    "        \"\"\" 前向传播方法 \"\"\"\n",
    "        output = self.fc(x)\n",
    "        output = F.sigmoid(output)\n",
    "        return output"
   ]
  },
  {
   "cell_type": "code",
   "execution_count": 16,
   "id": "387d7761-30ee-4b46-b564-d6ad11854186",
   "metadata": {},
   "outputs": [],
   "source": [
    "# 2. 构建损失函数和优化器\n",
    "model = LogisticRegression()\n",
    "\n",
    "loss_func = nn.BCELoss()\n",
    "optimizer = torch.optim.SGD(model.parameters(), lr=1e-3)"
   ]
  },
  {
   "cell_type": "code",
   "execution_count": 17,
   "id": "07fea845-32b2-407d-9cb9-eee9eff261f7",
   "metadata": {},
   "outputs": [],
   "source": [
    "# 3. 训练模型\n",
    "epoch = 50000\n",
    "train_loss = []\n",
    "\n",
    "for i in range(epoch):\n",
    "    # 前向传播\n",
    "    y_hat = model(x)\n",
    "    loss = loss_func(y_hat, y_true)\n",
    "\n",
    "    optimizer.zero_grad()  # 清空之前步骤产生的梯度\n",
    "    loss.backward()  # 计算新的梯度\n",
    "    optimizer.step()  # 更新参数\n",
    "\n",
    "    train_loss.append(loss.item())"
   ]
  },
  {
   "cell_type": "code",
   "execution_count": 18,
   "id": "1a5b846a-ed29-4717-92ee-e576041ecb2e",
   "metadata": {},
   "outputs": [
    {
     "data": {
      "image/png": "[encoded data removed]",
      "text/plain": [
       "<Figure size 800x400 with 1 Axes>"
      ]
     },
     "metadata": {},
     "output_type": "display_data"
    }
   ],
   "source": [
    "import matplotlib.pyplot as plt\n",
    "import os\n",
    "os.environ['KMP_DUPLICATE_LIB_OK']= 'True'\n",
    "\n",
    "plt.figure(figsize=(8, 4))\n",
    "plt.plot(train_loss, label=\"train loss\")\n",
    "plt.title(\"LogisticRegression Model Train Loss\")\n",
    "plt.legend()\n",
    "\n",
    "plt.grid()\n",
    "plt.show()"
   ]
  },
  {
   "cell_type": "code",
   "execution_count": 19,
   "id": "b40d689d-9fd1-40b6-b63d-9a51725f81c3",
   "metadata": {},
   "outputs": [
    {
     "data": {
      "text/plain": [
       "torch.Size([4, 1])"
      ]
     },
     "execution_count": 19,
     "metadata": {},
     "output_type": "execute_result"
    }
   ],
   "source": [
    "# 4. 验证模型效果\n",
    "import numpy as np\n",
    "\n",
    "x_t = torch.Tensor([[1.1], \n",
    "                    [1.75],\n",
    "                    [1.82], \n",
    "                    [1.95]])\n",
    "x_t.shape"
   ]
  },
  {
   "cell_type": "code",
   "execution_count": 20,
   "id": "bea415b7-eab2-40c5-b57b-b02076956ce1",
   "metadata": {},
   "outputs": [
    {
     "data": {
      "text/plain": [
       "tensor([[0.2966],\n",
       "        [0.4852],\n",
       "        [0.5069],\n",
       "        [0.5470]], grad_fn=<SigmoidBackward0>)"
      ]
     },
     "execution_count": 20,
     "metadata": {},
     "output_type": "execute_result"
    }
   ],
   "source": [
    "y_t = model(x_t)\n",
    "y_t"
   ]
  },
  {
   "cell_type": "code",
   "execution_count": 21,
   "id": "b5885439-4a87-4cdc-a452-3ee438b8ca71",
   "metadata": {},
   "outputs": [
    {
     "data": {
      "text/plain": [
       "tensor([[False],\n",
       "        [False],\n",
       "        [ True],\n",
       "        [ True]])"
      ]
     },
     "execution_count": 21,
     "metadata": {},
     "output_type": "execute_result"
    }
   ],
   "source": [
    "y_t > 0.5"
   ]
  },
  {
   "cell_type": "markdown",
   "id": "b1de9aad-1ac2-4d58-bdd3-805269f35d80",
   "metadata": {},
   "source": [
    "### 2.3 `Fasion-MNIST` 图像识别任务 工程化实现\n",
    "\n",
    "- 替代MNIST手写数字集的图像数据集, 其涵盖了来自 10 种类别的共 7 万个不同商品的正面图片\n",
    "- 60000/10000 的训练测试数据划分，28x28 的灰度图片\n",
    "    - Train set: 从原始数据集中，随机抽样一部分数据用于模型训练的部分\n",
    "    - Test set: 剩下的一部分用于验证模型效果的部分\n",
    "- CSV 逗号分隔符文件, 常见的结构型数据存储格式"
   ]
  },
  {
   "cell_type": "code",
   "execution_count": 27,
   "id": "1c6c649b-c276-415b-a45b-91fbb02c5fd4",
   "metadata": {},
   "outputs": [
    {
     "data": {
      "text/html": [
       "<div>\n",
       "<style scoped>\n",
       "    .dataframe tbody tr th:only-of-type {\n",
       "        vertical-align: middle;\n",
       "    }\n",
       "\n",
       "    .dataframe tbody tr th {\n",
       "        vertical-align: top;\n",
       "    }\n",
       "\n",
       "    .dataframe thead th {\n",
       "        text-align: right;\n",
       "    }\n",
       "</style>\n",
       "<table border=\"1\" class=\"dataframe\">\n",
       "  <thead>\n",
       "    <tr style=\"text-align: right;\">\n",
       "      <th></th>\n",
       "      <th>label</th>\n",
       "      <th>pixel1</th>\n",
       "      <th>pixel2</th>\n",
       "      <th>pixel3</th>\n",
       "      <th>pixel4</th>\n",
       "      <th>pixel5</th>\n",
       "      <th>pixel6</th>\n",
       "      <th>pixel7</th>\n",
       "      <th>pixel8</th>\n",
       "      <th>pixel9</th>\n",
       "      <th>...</th>\n",
       "      <th>pixel775</th>\n",
       "      <th>pixel776</th>\n",
       "      <th>pixel777</th>\n",
       "      <th>pixel778</th>\n",
       "      <th>pixel779</th>\n",
       "      <th>pixel780</th>\n",
       "      <th>pixel781</th>\n",
       "      <th>pixel782</th>\n",
       "      <th>pixel783</th>\n",
       "      <th>pixel784</th>\n",
       "    </tr>\n",
       "  </thead>\n",
       "  <tbody>\n",
       "    <tr>\n",
       "      <th>0</th>\n",
       "      <td>0</td>\n",
       "      <td>0</td>\n",
       "      <td>0</td>\n",
       "      <td>0</td>\n",
       "      <td>0</td>\n",
       "      <td>0</td>\n",
       "      <td>0</td>\n",
       "      <td>0</td>\n",
       "      <td>9</td>\n",
       "      <td>8</td>\n",
       "      <td>...</td>\n",
       "      <td>103</td>\n",
       "      <td>87</td>\n",
       "      <td>56</td>\n",
       "      <td>0</td>\n",
       "      <td>0</td>\n",
       "      <td>0</td>\n",
       "      <td>0</td>\n",
       "      <td>0</td>\n",
       "      <td>0</td>\n",
       "      <td>0</td>\n",
       "    </tr>\n",
       "    <tr>\n",
       "      <th>1</th>\n",
       "      <td>1</td>\n",
       "      <td>0</td>\n",
       "      <td>0</td>\n",
       "      <td>0</td>\n",
       "      <td>0</td>\n",
       "      <td>0</td>\n",
       "      <td>0</td>\n",
       "      <td>0</td>\n",
       "      <td>0</td>\n",
       "      <td>0</td>\n",
       "      <td>...</td>\n",
       "      <td>34</td>\n",
       "      <td>0</td>\n",
       "      <td>0</td>\n",
       "      <td>0</td>\n",
       "      <td>0</td>\n",
       "      <td>0</td>\n",
       "      <td>0</td>\n",
       "      <td>0</td>\n",
       "      <td>0</td>\n",
       "      <td>0</td>\n",
       "    </tr>\n",
       "    <tr>\n",
       "      <th>2</th>\n",
       "      <td>2</td>\n",
       "      <td>0</td>\n",
       "      <td>0</td>\n",
       "      <td>0</td>\n",
       "      <td>0</td>\n",
       "      <td>0</td>\n",
       "      <td>0</td>\n",
       "      <td>14</td>\n",
       "      <td>53</td>\n",
       "      <td>99</td>\n",
       "      <td>...</td>\n",
       "      <td>0</td>\n",
       "      <td>0</td>\n",
       "      <td>0</td>\n",
       "      <td>0</td>\n",
       "      <td>63</td>\n",
       "      <td>53</td>\n",
       "      <td>31</td>\n",
       "      <td>0</td>\n",
       "      <td>0</td>\n",
       "      <td>0</td>\n",
       "    </tr>\n",
       "    <tr>\n",
       "      <th>3</th>\n",
       "      <td>2</td>\n",
       "      <td>0</td>\n",
       "      <td>0</td>\n",
       "      <td>0</td>\n",
       "      <td>0</td>\n",
       "      <td>0</td>\n",
       "      <td>0</td>\n",
       "      <td>0</td>\n",
       "      <td>0</td>\n",
       "      <td>0</td>\n",
       "      <td>...</td>\n",
       "      <td>137</td>\n",
       "      <td>126</td>\n",
       "      <td>140</td>\n",
       "      <td>0</td>\n",
       "      <td>133</td>\n",
       "      <td>224</td>\n",
       "      <td>222</td>\n",
       "      <td>56</td>\n",
       "      <td>0</td>\n",
       "      <td>0</td>\n",
       "    </tr>\n",
       "    <tr>\n",
       "      <th>4</th>\n",
       "      <td>3</td>\n",
       "      <td>0</td>\n",
       "      <td>0</td>\n",
       "      <td>0</td>\n",
       "      <td>0</td>\n",
       "      <td>0</td>\n",
       "      <td>0</td>\n",
       "      <td>0</td>\n",
       "      <td>0</td>\n",
       "      <td>0</td>\n",
       "      <td>...</td>\n",
       "      <td>0</td>\n",
       "      <td>0</td>\n",
       "      <td>0</td>\n",
       "      <td>0</td>\n",
       "      <td>0</td>\n",
       "      <td>0</td>\n",
       "      <td>0</td>\n",
       "      <td>0</td>\n",
       "      <td>0</td>\n",
       "      <td>0</td>\n",
       "    </tr>\n",
       "    <tr>\n",
       "      <th>...</th>\n",
       "      <td>...</td>\n",
       "      <td>...</td>\n",
       "      <td>...</td>\n",
       "      <td>...</td>\n",
       "      <td>...</td>\n",
       "      <td>...</td>\n",
       "      <td>...</td>\n",
       "      <td>...</td>\n",
       "      <td>...</td>\n",
       "      <td>...</td>\n",
       "      <td>...</td>\n",
       "      <td>...</td>\n",
       "      <td>...</td>\n",
       "      <td>...</td>\n",
       "      <td>...</td>\n",
       "      <td>...</td>\n",
       "      <td>...</td>\n",
       "      <td>...</td>\n",
       "      <td>...</td>\n",
       "      <td>...</td>\n",
       "      <td>...</td>\n",
       "    </tr>\n",
       "    <tr>\n",
       "      <th>9995</th>\n",
       "      <td>0</td>\n",
       "      <td>0</td>\n",
       "      <td>0</td>\n",
       "      <td>0</td>\n",
       "      <td>0</td>\n",
       "      <td>0</td>\n",
       "      <td>0</td>\n",
       "      <td>0</td>\n",
       "      <td>0</td>\n",
       "      <td>0</td>\n",
       "      <td>...</td>\n",
       "      <td>32</td>\n",
       "      <td>23</td>\n",
       "      <td>14</td>\n",
       "      <td>20</td>\n",
       "      <td>0</td>\n",
       "      <td>0</td>\n",
       "      <td>1</td>\n",
       "      <td>0</td>\n",
       "      <td>0</td>\n",
       "      <td>0</td>\n",
       "    </tr>\n",
       "    <tr>\n",
       "      <th>9996</th>\n",
       "      <td>6</td>\n",
       "      <td>0</td>\n",
       "      <td>0</td>\n",
       "      <td>0</td>\n",
       "      <td>0</td>\n",
       "      <td>0</td>\n",
       "      <td>0</td>\n",
       "      <td>0</td>\n",
       "      <td>0</td>\n",
       "      <td>0</td>\n",
       "      <td>...</td>\n",
       "      <td>0</td>\n",
       "      <td>0</td>\n",
       "      <td>0</td>\n",
       "      <td>2</td>\n",
       "      <td>52</td>\n",
       "      <td>23</td>\n",
       "      <td>28</td>\n",
       "      <td>0</td>\n",
       "      <td>0</td>\n",
       "      <td>0</td>\n",
       "    </tr>\n",
       "    <tr>\n",
       "      <th>9997</th>\n",
       "      <td>8</td>\n",
       "      <td>0</td>\n",
       "      <td>0</td>\n",
       "      <td>0</td>\n",
       "      <td>0</td>\n",
       "      <td>0</td>\n",
       "      <td>0</td>\n",
       "      <td>0</td>\n",
       "      <td>0</td>\n",
       "      <td>0</td>\n",
       "      <td>...</td>\n",
       "      <td>175</td>\n",
       "      <td>172</td>\n",
       "      <td>172</td>\n",
       "      <td>182</td>\n",
       "      <td>199</td>\n",
       "      <td>222</td>\n",
       "      <td>42</td>\n",
       "      <td>0</td>\n",
       "      <td>1</td>\n",
       "      <td>0</td>\n",
       "    </tr>\n",
       "    <tr>\n",
       "      <th>9998</th>\n",
       "      <td>8</td>\n",
       "      <td>0</td>\n",
       "      <td>1</td>\n",
       "      <td>3</td>\n",
       "      <td>0</td>\n",
       "      <td>0</td>\n",
       "      <td>0</td>\n",
       "      <td>0</td>\n",
       "      <td>0</td>\n",
       "      <td>0</td>\n",
       "      <td>...</td>\n",
       "      <td>0</td>\n",
       "      <td>0</td>\n",
       "      <td>0</td>\n",
       "      <td>0</td>\n",
       "      <td>0</td>\n",
       "      <td>1</td>\n",
       "      <td>0</td>\n",
       "      <td>0</td>\n",
       "      <td>0</td>\n",
       "      <td>0</td>\n",
       "    </tr>\n",
       "    <tr>\n",
       "      <th>9999</th>\n",
       "      <td>1</td>\n",
       "      <td>0</td>\n",
       "      <td>0</td>\n",
       "      <td>0</td>\n",
       "      <td>0</td>\n",
       "      <td>0</td>\n",
       "      <td>0</td>\n",
       "      <td>0</td>\n",
       "      <td>140</td>\n",
       "      <td>119</td>\n",
       "      <td>...</td>\n",
       "      <td>111</td>\n",
       "      <td>95</td>\n",
       "      <td>75</td>\n",
       "      <td>44</td>\n",
       "      <td>1</td>\n",
       "      <td>0</td>\n",
       "      <td>0</td>\n",
       "      <td>0</td>\n",
       "      <td>0</td>\n",
       "      <td>0</td>\n",
       "    </tr>\n",
       "  </tbody>\n",
       "</table>\n",
       "<p>10000 rows × 785 columns</p>\n",
       "</div>"
      ],
      "text/plain": [
       "      label  pixel1  pixel2  pixel3  pixel4  pixel5  pixel6  pixel7  pixel8  \\\n",
       "0         0       0       0       0       0       0       0       0       9   \n",
       "1         1       0       0       0       0       0       0       0       0   \n",
       "2         2       0       0       0       0       0       0      14      53   \n",
       "3         2       0       0       0       0       0       0       0       0   \n",
       "4         3       0       0       0       0       0       0       0       0   \n",
       "...     ...     ...     ...     ...     ...     ...     ...     ...     ...   \n",
       "9995      0       0       0       0       0       0       0       0       0   \n",
       "9996      6       0       0       0       0       0       0       0       0   \n",
       "9997      8       0       0       0       0       0       0       0       0   \n",
       "9998      8       0       1       3       0       0       0       0       0   \n",
       "9999      1       0       0       0       0       0       0       0     140   \n",
       "\n",
       "      pixel9  ...  pixel775  pixel776  pixel777  pixel778  pixel779  pixel780  \\\n",
       "0          8  ...       103        87        56         0         0         0   \n",
       "1          0  ...        34         0         0         0         0         0   \n",
       "2         99  ...         0         0         0         0        63        53   \n",
       "3          0  ...       137       126       140         0       133       224   \n",
       "4          0  ...         0         0         0         0         0         0   \n",
       "...      ...  ...       ...       ...       ...       ...       ...       ...   \n",
       "9995       0  ...        32        23        14        20         0         0   \n",
       "9996       0  ...         0         0         0         2        52        23   \n",
       "9997       0  ...       175       172       172       182       199       222   \n",
       "9998       0  ...         0         0         0         0         0         1   \n",
       "9999     119  ...       111        95        75        44         1         0   \n",
       "\n",
       "      pixel781  pixel782  pixel783  pixel784  \n",
       "0            0         0         0         0  \n",
       "1            0         0         0         0  \n",
       "2           31         0         0         0  \n",
       "3          222        56         0         0  \n",
       "4            0         0         0         0  \n",
       "...        ...       ...       ...       ...  \n",
       "9995         1         0         0         0  \n",
       "9996        28         0         0         0  \n",
       "9997        42         0         1         0  \n",
       "9998         0         0         0         0  \n",
       "9999         0         0         0         0  \n",
       "\n",
       "[10000 rows x 785 columns]"
      ]
     },
     "execution_count": 27,
     "metadata": {},
     "output_type": "execute_result"
    }
   ],
   "source": [
    "import pandas as pd\n",
    "\n",
    "# 初步探索数据集构成\n",
    "df_dataset = pd.read_csv(\"E:/文件/fashion-mnist_test.csv\")  # 使用相对路径读取CSV文件, 得到DataFrame 数据帧\n",
    "df_dataset"
   ]
  },
  {
   "cell_type": "code",
   "execution_count": 28,
   "id": "6563d43d-4a0d-4873-ab1a-b6ce2e8ba04c",
   "metadata": {},
   "outputs": [
    {
     "data": {
      "text/plain": [
       "((7000, 785), (3000, 785))"
      ]
     },
     "execution_count": 28,
     "metadata": {},
     "output_type": "execute_result"
    }
   ],
   "source": [
    "# 1. 构建数据集\n",
    "train_set = df_dataset.sample(frac=0.7)\n",
    "test_set = df_dataset[~df_dataset.index.isin(train_set.index)]\n",
    "\n",
    "train_set.shape, test_set.shape"
   ]
  },
  {
   "cell_type": "code",
   "execution_count": 29,
   "id": "4e122e18-1d0a-4c9d-9c59-3b8018f57a57",
   "metadata": {},
   "outputs": [],
   "source": [
    "from torch.utils.data import Dataset, DataLoader\n",
    "\n",
    "class FasionMNIST(Dataset):\n",
    "    \"\"\" FasionMNIST图像识别数据集 \"\"\"\n",
    "    def __init__(self, df_dataset):\n",
    "        self.y = df_dataset.label.values\n",
    "        self.x = df_dataset.iloc[:, 1:].values\n",
    "\n",
    "    def __len__(self):\n",
    "        return len(self.y)\n",
    "\n",
    "    def __getitem__(self, idx):\n",
    "        y = torch.LongTensor([self.y[idx]])\n",
    "        x = torch.Tensor(self.x[idx])\n",
    "        return y, x"
   ]
  },
  {
   "cell_type": "code",
   "execution_count": 30,
   "id": "2905541d-620b-4fd0-b3e7-9841ad75cac9",
   "metadata": {},
   "outputs": [
    {
     "data": {
      "text/plain": [
       "(7000, 3000)"
      ]
     },
     "execution_count": 30,
     "metadata": {},
     "output_type": "execute_result"
    }
   ],
   "source": [
    "train_dataset = FasionMNIST(train_set)\n",
    "test_dataset = FasionMNIST(test_set)\n",
    "\n",
    "len(train_dataset), len(test_dataset)"
   ]
  },
  {
   "cell_type": "code",
   "execution_count": 31,
   "id": "e906b28c-5b4e-4dab-a4ce-14b83c2d978e",
   "metadata": {},
   "outputs": [
    {
     "data": {
      "text/plain": [
       "(28, 12)"
      ]
     },
     "execution_count": 31,
     "metadata": {},
     "output_type": "execute_result"
    }
   ],
   "source": [
    "train_dataloader = DataLoader(train_dataset, batch_size=256, shuffle=True)\n",
    "test_dataloader = DataLoader(test_dataset, batch_size=256)\n",
    "\n",
    "len(train_dataloader), len(test_dataloader)"
   ]
  },
  {
   "cell_type": "code",
   "execution_count": 32,
   "id": "9e2ac795-b6ab-4731-a00d-be5290e9c2b7",
   "metadata": {},
   "outputs": [
    {
     "data": {
      "text/plain": [
       "device(type='cuda')"
      ]
     },
     "execution_count": 32,
     "metadata": {},
     "output_type": "execute_result"
    }
   ],
   "source": [
    "device = torch.device(\"cuda\") if torch.cuda.is_available() else torch.device(\"cpu\")\n",
    "device"
   ]
  },
  {
   "cell_type": "code",
   "execution_count": 33,
   "id": "c5a5586a-be8c-4ba7-bef0-4723d3245ee4",
   "metadata": {},
   "outputs": [
    {
     "data": {
      "text/plain": [
       "Sequential(\n",
       "  (0): Linear(in_features=784, out_features=512, bias=True)\n",
       "  (1): ReLU()\n",
       "  (2): Linear(in_features=512, out_features=256, bias=True)\n",
       "  (3): ReLU()\n",
       "  (4): Linear(in_features=256, out_features=10, bias=True)\n",
       "  (5): Softmax(dim=None)\n",
       ")"
      ]
     },
     "execution_count": 33,
     "metadata": {},
     "output_type": "execute_result"
    }
   ],
   "source": [
    "# 2. 构建模型 784 -> 512 -> 256 -> 10\n",
    "model = nn.Sequential(nn.Linear(784, 512), \n",
    "                      nn.ReLU(), \n",
    "                      \n",
    "                      nn.Linear(512, 256), \n",
    "                      nn.ReLU(), \n",
    "                      \n",
    "                      nn.Linear(256, 10), \n",
    "                      nn.Softmax())\n",
    "\n",
    "model.to(device)"
   ]
  },
  {
   "cell_type": "code",
   "execution_count": 34,
   "id": "8bff55ec-dbe2-4988-82b7-8311d4c3311d",
   "metadata": {},
   "outputs": [],
   "source": [
    "loss_func = nn.CrossEntropyLoss()\n",
    "optimizer = torch.optim.Adam(model.parameters(), lr=1e-4)"
   ]
  },
  {
   "cell_type": "code",
   "execution_count": 35,
   "id": "e1dc032b-3066-4aa9-bced-a7506b0111a0",
   "metadata": {},
   "outputs": [],
   "source": [
    "# 3. 训练模型\n",
    "def train_model(model, train_dataloader, optimizer, loss_func):\n",
    "    \"\"\" 训练模型 \"\"\"\n",
    "    total_loss = 0.\n",
    "\n",
    "    model.train() # 打开模型训练模式, 所有参数可以被调整\n",
    "    for (y, x) in train_dataloader:\n",
    "        y_hat = model(x.to(device))\n",
    "        loss = loss_func(y_hat, y.to(device).view(y.shape[0]))\n",
    "\n",
    "        optimizer.zero_grad()\n",
    "        loss.backward()\n",
    "        optimizer.step()\n",
    "        \n",
    "        total_loss += loss.item()\n",
    "    print(f\"Total loss: {total_loss/len(train_dataloader): 0.4f}\")\n",
    "    return total_loss/len(train_dataloader)"
   ]
  },
  {
   "cell_type": "code",
   "execution_count": 36,
   "id": "64052b45-27a1-47ad-a56d-00ea01a86cf2",
   "metadata": {},
   "outputs": [],
   "source": [
    "# 4. 验证模型\n",
    "def test_model(model, test_dataloader, loss_func):\n",
    "    \"\"\" 训练模型 \"\"\"\n",
    "    total_loss = 0.\n",
    "\n",
    "    model.eval() # 打开模型验证模式，所有参数冻结不可被调整\n",
    "    for (y, x) in test_dataloader:\n",
    "        y_hat = model(x.to(device))\n",
    "        loss = loss_func(y_hat, y.to(device).view(y.shape[0]))\n",
    "        \n",
    "        total_loss += loss.item()\n",
    "    print(f\"Total loss: {total_loss/len(test_dataloader): 0.4f}\")\n",
    "    return total_loss/len(test_dataloader)"
   ]
  },
  {
   "cell_type": "code",
   "execution_count": 37,
   "id": "3b1f5f76-0934-40a4-a08b-58755ff03c47",
   "metadata": {},
   "outputs": [
    {
     "name": "stderr",
     "output_type": "stream",
     "text": [
      "C:\\Users\\LENOVO\\AppData\\Roaming\\Python\\Python39\\site-packages\\torch\\nn\\modules\\module.py:1739: UserWarning: Implicit dimension choice for softmax has been deprecated. Change the call to include dim=X as an argument.\n",
      "  return self._call_impl(*args, **kwargs)\n"
     ]
    },
    {
     "name": "stdout",
     "output_type": "stream",
     "text": [
      "Total loss:  2.0717\n",
      "Total loss:  1.9550\n",
      "Total loss:  1.9430\n",
      "Total loss:  1.9444\n",
      "Total loss:  1.9357\n",
      "Total loss:  1.9372\n",
      "Total loss:  1.9216\n",
      "Total loss:  1.9390\n",
      "Total loss:  1.9291\n",
      "Total loss:  1.9397\n",
      "Total loss:  1.9215\n",
      "Total loss:  1.9296\n",
      "Total loss:  1.9128\n",
      "Total loss:  1.9283\n",
      "Total loss:  1.9125\n",
      "Total loss:  1.9367\n",
      "Total loss:  1.9222\n",
      "Total loss:  1.9343\n",
      "Total loss:  1.9200\n",
      "Total loss:  1.9344\n",
      "Total loss:  1.9179\n",
      "Total loss:  1.9334\n",
      "Total loss:  1.9120\n",
      "Total loss:  1.9307\n",
      "Total loss:  1.9025\n",
      "Total loss:  1.9279\n",
      "Total loss:  1.9039\n",
      "Total loss:  1.9277\n",
      "Total loss:  1.8987\n",
      "Total loss:  1.9221\n",
      "Total loss:  1.8967\n",
      "Total loss:  1.9240\n",
      "Total loss:  1.8720\n",
      "Total loss:  1.8681\n",
      "Total loss:  1.8598\n",
      "Total loss:  1.8644\n",
      "Total loss:  1.8467\n",
      "Total loss:  1.8326\n",
      "Total loss:  1.7804\n",
      "Total loss:  1.7972\n",
      "Total loss:  1.7554\n",
      "Total loss:  1.8014\n",
      "Total loss:  1.7494\n",
      "Total loss:  1.7720\n",
      "Total loss:  1.7408\n",
      "Total loss:  1.8006\n",
      "Total loss:  1.7441\n",
      "Total loss:  1.7935\n",
      "Total loss:  1.7349\n",
      "Total loss:  1.7883\n",
      "Total loss:  1.7405\n",
      "Total loss:  1.7795\n",
      "Total loss:  1.7334\n",
      "Total loss:  1.7786\n",
      "Total loss:  1.7277\n",
      "Total loss:  1.7714\n",
      "Total loss:  1.7322\n",
      "Total loss:  1.7640\n",
      "Total loss:  1.7286\n",
      "Total loss:  1.7679\n",
      "Total loss:  1.7291\n",
      "Total loss:  1.7665\n",
      "Total loss:  1.7249\n",
      "Total loss:  1.7823\n",
      "Total loss:  1.7273\n",
      "Total loss:  1.7719\n",
      "Total loss:  1.7273\n",
      "Total loss:  1.7785\n",
      "Total loss:  1.7214\n",
      "Total loss:  1.7712\n",
      "Total loss:  1.7161\n",
      "Total loss:  1.7653\n",
      "Total loss:  1.6535\n",
      "Total loss:  1.6824\n",
      "Total loss:  1.6334\n",
      "Total loss:  1.6825\n",
      "Total loss:  1.6254\n",
      "Total loss:  1.6751\n",
      "Total loss:  1.6220\n",
      "Total loss:  1.6758\n",
      "Total loss:  1.6187\n",
      "Total loss:  1.6764\n",
      "Total loss:  1.6181\n",
      "Total loss:  1.6730\n",
      "Total loss:  1.6115\n",
      "Total loss:  1.6762\n",
      "Total loss:  1.6154\n",
      "Total loss:  1.6844\n",
      "Total loss:  1.6083\n",
      "Total loss:  1.6787\n",
      "Total loss:  1.6087\n",
      "Total loss:  1.6718\n",
      "Total loss:  1.6122\n",
      "Total loss:  1.6715\n",
      "Total loss:  1.6070\n",
      "Total loss:  1.6743\n",
      "Total loss:  1.6077\n",
      "Total loss:  1.6718\n",
      "Total loss:  1.6095\n",
      "Total loss:  1.6737\n",
      "Total loss:  1.6048\n",
      "Total loss:  1.6759\n",
      "Total loss:  1.6019\n",
      "Total loss:  1.6726\n",
      "Total loss:  1.6003\n",
      "Total loss:  1.6726\n",
      "Total loss:  1.6016\n",
      "Total loss:  1.6741\n",
      "Total loss:  1.5997\n",
      "Total loss:  1.6769\n",
      "Total loss:  1.5992\n",
      "Total loss:  1.6743\n",
      "Total loss:  1.6029\n",
      "Total loss:  1.6747\n",
      "Total loss:  1.5989\n",
      "Total loss:  1.6771\n",
      "Total loss:  1.6004\n",
      "Total loss:  1.6675\n",
      "Total loss:  1.5983\n",
      "Total loss:  1.6709\n",
      "Total loss:  1.5963\n",
      "Total loss:  1.6686\n",
      "Total loss:  1.5953\n",
      "Total loss:  1.6673\n",
      "Total loss:  1.5942\n",
      "Total loss:  1.6736\n",
      "Total loss:  1.5944\n",
      "Total loss:  1.6685\n",
      "Total loss:  1.5942\n",
      "Total loss:  1.6690\n",
      "Total loss:  1.5935\n",
      "Total loss:  1.6719\n",
      "Total loss:  1.5980\n",
      "Total loss:  1.6706\n",
      "Total loss:  1.5936\n",
      "Total loss:  1.6720\n",
      "Total loss:  1.5947\n",
      "Total loss:  1.6736\n",
      "Total loss:  1.5960\n",
      "Total loss:  1.6707\n",
      "Total loss:  1.5944\n",
      "Total loss:  1.6700\n",
      "Total loss:  1.5937\n",
      "Total loss:  1.6734\n",
      "Total loss:  1.5914\n",
      "Total loss:  1.6766\n",
      "Total loss:  1.6044\n",
      "Total loss:  1.6788\n",
      "Total loss:  1.5937\n",
      "Total loss:  1.6711\n",
      "Total loss:  1.5928\n",
      "Total loss:  1.6694\n",
      "Total loss:  1.5903\n",
      "Total loss:  1.6689\n",
      "Total loss:  1.5887\n",
      "Total loss:  1.6681\n",
      "Total loss:  1.5902\n",
      "Total loss:  1.6650\n",
      "Total loss:  1.5873\n",
      "Total loss:  1.6665\n",
      "Total loss:  1.5855\n",
      "Total loss:  1.6640\n",
      "Total loss:  1.5884\n",
      "Total loss:  1.6665\n",
      "Total loss:  1.5880\n",
      "Total loss:  1.6657\n",
      "Total loss:  1.5862\n",
      "Total loss:  1.6665\n",
      "Total loss:  1.5858\n",
      "Total loss:  1.6662\n",
      "Total loss:  1.5890\n",
      "Total loss:  1.6684\n",
      "Total loss:  1.5919\n",
      "Total loss:  1.6662\n",
      "Total loss:  1.5871\n",
      "Total loss:  1.6648\n",
      "Total loss:  1.5864\n",
      "Total loss:  1.6654\n",
      "Total loss:  1.5885\n",
      "Total loss:  1.6682\n",
      "Total loss:  1.5878\n",
      "Total loss:  1.6647\n",
      "Total loss:  1.5908\n",
      "Total loss:  1.6672\n",
      "Total loss:  1.5890\n",
      "Total loss:  1.6756\n",
      "Total loss:  1.5894\n",
      "Total loss:  1.6758\n",
      "Total loss:  1.5904\n",
      "Total loss:  1.6758\n",
      "Total loss:  1.5887\n",
      "Total loss:  1.6675\n",
      "Total loss:  1.5863\n",
      "Total loss:  1.6685\n",
      "Total loss:  1.5844\n",
      "Total loss:  1.6703\n",
      "Total loss:  1.5936\n",
      "Total loss:  1.6688\n",
      "Total loss:  1.5919\n",
      "Total loss:  1.6785\n"
     ]
    }
   ],
   "source": [
    "epoch = 100\n",
    "\n",
    "train_loss_records = []\n",
    "test_loss_records = []\n",
    "\n",
    "for i in range(epoch):\n",
    "    train_loss = train_model(model, train_dataloader, optimizer, loss_func)\n",
    "    test_loss = test_model(model, test_dataloader, loss_func)\n",
    "    \n",
    "    train_loss_records.append(train_loss)\n",
    "    test_loss_records.append(test_loss)"
   ]
  },
  {
   "cell_type": "code",
   "execution_count": 38,
   "id": "1481ad5a-4982-4b62-a3ac-e9f5000deaa2",
   "metadata": {},
   "outputs": [
    {
     "data": {
      "image/png": "[encoded data removed]",
      "text/plain": [
       "<Figure size 800x400 with 1 Axes>"
      ]
     },
     "metadata": {},
     "output_type": "display_data"
    }
   ],
   "source": [
    "import matplotlib.pyplot as plt\n",
    "import os\n",
    "os.environ['KMP_DUPLICATE_LIB_OK']= 'True'\n",
    "\n",
    "plt.figure(figsize=(8, 4))\n",
    "plt.plot(train_loss_records, label=\"train loss\")\n",
    "plt.plot(test_loss_records, label=\"test loss\")\n",
    "plt.title(\"LogisticRegression Model Train Loss\")\n",
    "plt.legend()\n",
    "\n",
    "plt.grid()\n",
    "plt.show()"
   ]
  },
  {
   "cell_type": "code",
   "execution_count": null,
   "id": "250eda08-a98b-4aaf-a239-59a9a268ad59",
   "metadata": {},
   "outputs": [],
   "source": []
  }
 ],
 "metadata": {
  "kernelspec": {
   "display_name": "Python 3 (ipykernel)",
   "language": "python",
   "name": "python3"
  },
  "language_info": {
   "codemirror_mode": {
    "name": "ipython",
    "version": 3
   },
   "file_extension": ".py",
   "mimetype": "text/x-python",
   "name": "python",
   "nbconvert_exporter": "python",
   "pygments_lexer": "ipython3",
   "version": "3.9.13"
  }
 },
 "nbformat": 4,
 "nbformat_minor": 5
}
