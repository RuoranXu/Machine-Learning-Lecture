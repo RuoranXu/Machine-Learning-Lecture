{
 "cells": [
  {
   "cell_type": "markdown",
   "id": "a0ec952c-15aa-4932-a3f3-67ba005b3f4c",
   "metadata": {},
   "source": [
    "## Lec 8. 编码器-解码器结构\n",
    "\n",
    "- Encoder-Decoder\n",
    "    - VAE `变分自编码器` Variational Auto-Encoders\n",
    "    - Seq2Seq `序列到序列`\n",
    "    - Transformer\n",
    " "
   ]
  },
  {
   "cell_type": "markdown",
   "id": "6aa3a736-630e-4863-ad18-75e384f94f05",
   "metadata": {
    "jp-MarkdownHeadingCollapsed": true
   },
   "source": [
    "### 8.1 Variational Auto-Encoders\n",
    "- 调整网络结构：\n",
    "    - 使用卷积神经网络\n",
    "    - 添加正则化层 (Dropout / BatchNorm)\n",
    "    - 使用更深的网络结构\n",
    "    - ......\n",
    "\n",
    "- VAE的使用场景\n",
    "    - 图像生成，文本生成，音频生成.....\n",
    "    - 数据增强"
   ]
  },
  {
   "cell_type": "code",
   "execution_count": 1,
   "id": "fdb1b268-8aa2-48ca-9b76-acd8c3e89a7b",
   "metadata": {},
   "outputs": [],
   "source": [
    "import torch\n",
    "import torch.nn as nn\n",
    "import torch.nn.functional as F"
   ]
  },
  {
   "cell_type": "code",
   "execution_count": 2,
   "id": "d315898c-fdc1-409d-98fd-9bb192ea0efc",
   "metadata": {},
   "outputs": [],
   "source": [
    "class VAE(nn.Module):\n",
    "    \"\"\" 变分自编码器 \"\"\"\n",
    "    def __init__(self, input_size=784, hidden_size=256, latent_size=32):\n",
    "        super().__init__()\n",
    "\n",
    "        # Encoder 编码器\n",
    "        self.encoder = nn.Sequential(nn.Linear(input_size, hidden_size), \n",
    "                                     nn.ReLU(), \n",
    "                                     \n",
    "                                     nn.Linear(hidden_size, hidden_size//2), \n",
    "                                     nn.ReLU())\n",
    "\n",
    "        # 计算 Latent Space的均值和对数方差\n",
    "        self.fc_mu = nn.Linear(hidden_size//2, latent_size)\n",
    "        self.fc_logvar = nn.Linear(hidden_size//2, latent_size)\n",
    "\n",
    "        # Decoder 解码器\n",
    "        self.decoder = nn.Sequential(nn.Linear(latent_size, hidden_size//2), \n",
    "                                     nn.ReLU(), \n",
    "                                     \n",
    "                                     nn.Linear(hidden_size//2, hidden_size), \n",
    "                                     nn.ReLU(), \n",
    "                                     \n",
    "                                     nn.Linear(hidden_size, input_size), \n",
    "                                     nn.Sigmoid()) # 将输出压缩到 [0, 1] 范围内\n",
    "\n",
    "    def reparameterize(self, mu, logvar):\n",
    "        \"\"\" 重参数化方法 \"\"\"\n",
    "        std = torch.exp(0.5 * logvar)\n",
    "        eps = torch.randn_like(std)\n",
    "        return mu + eps * std\n",
    "\n",
    "    def forward(self, x):\n",
    "        \"\"\" 前向传播方法 \"\"\"\n",
    "        # 编码过程\n",
    "        h = self.encoder(x)\n",
    "        mu = self.fc_mu(h)\n",
    "        logvar = self.fc_logvar(h)\n",
    "    \n",
    "        # 重参数化\n",
    "        z = self.reparameterize(mu, logvar)\n",
    "\n",
    "        # 解码过程\n",
    "        x_recon = self.decoder(z)\n",
    "        return x_recon, mu, logvar"
   ]
  },
  {
   "cell_type": "code",
   "execution_count": 3,
   "id": "fc821b42-ac4c-46f7-b789-58d0c00e0b57",
   "metadata": {},
   "outputs": [
    {
     "data": {
      "text/plain": [
       "VAE(\n",
       "  (encoder): Sequential(\n",
       "    (0): Linear(in_features=784, out_features=256, bias=True)\n",
       "    (1): ReLU()\n",
       "    (2): Linear(in_features=256, out_features=128, bias=True)\n",
       "    (3): ReLU()\n",
       "  )\n",
       "  (fc_mu): Linear(in_features=128, out_features=32, bias=True)\n",
       "  (fc_logvar): Linear(in_features=128, out_features=32, bias=True)\n",
       "  (decoder): Sequential(\n",
       "    (0): Linear(in_features=32, out_features=128, bias=True)\n",
       "    (1): ReLU()\n",
       "    (2): Linear(in_features=128, out_features=256, bias=True)\n",
       "    (3): ReLU()\n",
       "    (4): Linear(in_features=256, out_features=784, bias=True)\n",
       "    (5): Sigmoid()\n",
       "  )\n",
       ")"
      ]
     },
     "execution_count": 3,
     "metadata": {},
     "output_type": "execute_result"
    }
   ],
   "source": [
    "model = VAE()\n",
    "model"
   ]
  },
  {
   "cell_type": "code",
   "execution_count": 4,
   "id": "b5c30041-b635-4a08-b1f3-ac8a85aa34e7",
   "metadata": {},
   "outputs": [],
   "source": [
    "# 1. 构建数据集\n",
    "import torchvision\n",
    "from torch.utils.data import DataLoader\n",
    "\n",
    "dataset = torchvision.datasets.MNIST(root=\"mnist/\", \n",
    "                                     train=True, \n",
    "                                     download=True, \n",
    "                                     transform=torchvision.transforms.ToTensor())\n",
    "dataloader = DataLoader(dataset, batch_size=256, shuffle=True)"
   ]
  },
  {
   "cell_type": "code",
   "execution_count": 5,
   "id": "28531e8c-140c-4eb2-9a9a-f2855e86446b",
   "metadata": {},
   "outputs": [],
   "source": [
    "def vae_loss(recon_x, x, mu, logvar):\n",
    "    \"\"\" VAE损失函数, Loss = 重构损失 + KL散度 \"\"\"\n",
    "    # 重构损失 (交叉熵)\n",
    "    BCE = F.binary_cross_entropy(recon_x, x.view(-1, 784), reduction='sum')\n",
    "\n",
    "    # KL散度\n",
    "    KLD = -0.5 * torch.sum(1 + logvar - mu.pow(2) - logvar.exp())\n",
    "    return BCE + KLD"
   ]
  },
  {
   "cell_type": "code",
   "execution_count": 6,
   "id": "6b65a219-9c34-452e-aa43-0625cec6fb10",
   "metadata": {},
   "outputs": [],
   "source": [
    "# 2. 构建模型\n",
    "device = torch.device(\"cuda\") if torch.cuda.is_available() else torch.device(\"cpu\")\n",
    "\n",
    "model = VAE().to(device)\n",
    "loss_func = vae_loss\n",
    "optimizer = torch.optim.Adam(model.parameters(), lr=1e-3)"
   ]
  },
  {
   "cell_type": "code",
   "execution_count": 7,
   "id": "95d32f84-dfa7-48ed-88b6-74e377ee7331",
   "metadata": {},
   "outputs": [],
   "source": [
    "# 3. 模型训练\n",
    "def train_model(model, loss_func, optimizer, dataloader):\n",
    "    \"\"\" 模型训练函数 \"\"\"\n",
    "    model.train()\n",
    "    total_loss = 0.\n",
    "    for x, _ in dataloader:\n",
    "        x = x.to(device)\n",
    "        x_recon, mu, logvar = model(x.view(-1, 784))\n",
    "        loss = loss_func(x_recon, x, mu, logvar)\n",
    "\n",
    "        optimizer.zero_grad()\n",
    "        loss.backward()\n",
    "        optimizer.step()\n",
    "\n",
    "        total_loss += loss.item()\n",
    "    print(f\"Loss: {total_loss/len(dataloader): 0.4f}\")\n",
    "    return total_loss/len(dataloader)"
   ]
  },
  {
   "cell_type": "code",
   "execution_count": 8,
   "id": "a28f71e7-36c9-4fd2-930b-e75f768d39fe",
   "metadata": {
    "collapsed": true,
    "jupyter": {
     "outputs_hidden": true
    }
   },
   "outputs": [
    {
     "name": "stdout",
     "output_type": "stream",
     "text": [
      "Loss:  54730.5959\n",
      "Loss:  42676.5434\n",
      "Loss:  36488.6971\n",
      "Loss:  33352.5640\n",
      "Loss:  31624.0120\n",
      "Loss:  30589.1935\n",
      "Loss:  29844.1860\n",
      "Loss:  29266.5805\n",
      "Loss:  28839.9716\n",
      "Loss:  28482.5489\n",
      "Loss:  28186.2108\n",
      "Loss:  27946.3325\n",
      "Loss:  27724.7324\n",
      "Loss:  27565.6009\n",
      "Loss:  27422.2501\n",
      "Loss:  27297.7688\n",
      "Loss:  27187.8959\n",
      "Loss:  27084.4150\n",
      "Loss:  26984.0842\n",
      "Loss:  26894.4766\n"
     ]
    },
    {
     "data": {
      "image/png": "[encoded data removed]",
      "text/plain": [
       "<Figure size 800x400 with 1 Axes>"
      ]
     },
     "metadata": {},
     "output_type": "display_data"
    }
   ],
   "source": [
    "n_epoch = 20\n",
    "train_loss = []\n",
    "\n",
    "for i in range(n_epoch):\n",
    "    loss = train_model(model, loss_func, optimizer, dataloader)\n",
    "    train_loss.append(loss)\n",
    "\n",
    "import matplotlib.pyplot as plt\n",
    "import os\n",
    "os.environ['KMP_DUPLICATE_LIB_OK']= 'True'\n",
    "\n",
    "plt.figure(figsize=(8, 4))\n",
    "plt.plot(train_loss, label=\"train loss\")\n",
    "plt.title(\"VAE Model Train Loss\")\n",
    "plt.legend()\n",
    "\n",
    "plt.grid()\n",
    "plt.show()"
   ]
  },
  {
   "cell_type": "code",
   "execution_count": 9,
   "id": "9ed3c90b-6e00-4051-a91e-ab86edb1828e",
   "metadata": {},
   "outputs": [
    {
     "data": {
      "text/plain": [
       "torch.Size([32, 1, 28, 28])"
      ]
     },
     "execution_count": 9,
     "metadata": {},
     "output_type": "execute_result"
    }
   ],
   "source": [
    "# 使用 VAE 进行数据增强\n",
    "with torch.no_grad():\n",
    "    # 从标准正态分布中采样 Latent 潜层特征\n",
    "    z = torch.randn(32, 32).to(device)\n",
    "\n",
    "    # 通过VAE解码器将采样得到的 潜层特征生成样本 (28x28的图像数据)\n",
    "    generated_samples = model.decoder(z).view(-1, 1, 28, 28).to(\"cpu\")\n",
    "\n",
    "generated_samples.shape"
   ]
  },
  {
   "cell_type": "code",
   "execution_count": 10,
   "id": "c33362db-3beb-42ef-9c7c-bb4359f26649",
   "metadata": {},
   "outputs": [
    {
     "data": {
      "text/plain": [
       "<matplotlib.image.AxesImage at 0x202376c2a30>"
      ]
     },
     "execution_count": 10,
     "metadata": {},
     "output_type": "execute_result"
    },
    {
     "data": {
      "image/png": "[encoded data removed]",
      "text/plain": [
       "<Figure size 640x480 with 1 Axes>"
      ]
     },
     "metadata": {},
     "output_type": "display_data"
    }
   ],
   "source": [
    "plt.imshow(torchvision.utils.make_grid(generated_samples)[0], cmap=\"Greys\")"
   ]
  },
  {
   "cell_type": "markdown",
   "id": "f5e1c5be-4b6b-4fa4-bef4-1e7a4107e499",
   "metadata": {
    "jp-MarkdownHeadingCollapsed": true
   },
   "source": [
    "### 8.2 Seq2Seq\n",
    "- 生成式模型\n",
    "- 用于处理序列形式的数据\n",
    "\n",
    "- 强制教学"
   ]
  },
  {
   "cell_type": "code",
   "execution_count": 11,
   "id": "5cab7b88-d0b8-4eac-b0b6-4c9c21d5f0fa",
   "metadata": {},
   "outputs": [],
   "source": [
    "class Seq2SeqEncoder(nn.Module):\n",
    "    \"\"\" Seq2Seq 编码器 \"\"\"\n",
    "    def __init__(self, vocab_size, embedding_size, hidden_size, num_layers=2, dropout=0.1):\n",
    "        super().__init__()\n",
    "        # 嵌入层\n",
    "        self.embedding = nn.Embedding(vocab_size, embedding_size)\n",
    "        # 特征提取层\n",
    "        self.rnn = nn.GRU(embedding_size, hidden_size, num_layers, dropout=dropout, batch_first=True)\n",
    "\n",
    "    def forward(self, x, hidden=None):\n",
    "        \"\"\" 前向传播方法 \"\"\"\n",
    "        # x: [batch_size, seq_len]\n",
    "        embedded = self.embedding(x)  # embedded: [batch_size, seq_len, embedding_size]\n",
    "        output, hidden = self.rnn(embedded, hidden)\n",
    "        # output: [batch_size, seq_len, hidden_size]\n",
    "        # hidden, cell: [num_layers, batch_Size, hidden_size]\n",
    "        return output, hidden"
   ]
  },
  {
   "cell_type": "code",
   "execution_count": 12,
   "id": "79bfb807-405f-41b1-855e-06c2b74a8cd3",
   "metadata": {},
   "outputs": [],
   "source": [
    "class Seq2SeqDecoder(nn.Module):\n",
    "    \"\"\" Seq2Seq 解码器 \"\"\"\n",
    "    def __init__(self, vocab_size, embedding_size, hidden_size, num_layers=2, dropout=0.1):\n",
    "        super().__init__()\n",
    "        # 嵌入层\n",
    "        self.embedding = nn.Embedding(vocab_size, embedding_size)\n",
    "        # 特征提取层\n",
    "        self.rnn = nn.GRU(embedding_size, hidden_size, num_layers, dropout=dropout, batch_first=True)\n",
    "        # 全连接层\n",
    "        self.fc = nn.Linear(hidden_size, vocab_size)\n",
    "\n",
    "    def forward(self, x, last_hidden):\n",
    "        \"\"\" 前向传播方法 \"\"\"\n",
    "        # x: [batch_size, seq_len]\n",
    "        embedded = self.embedding(x)  # embedded: [batch_size, seq_len, embedding_size]\n",
    "        output, hidden = self.rnn(embedded, last_hidden)\n",
    "        # output: [batch_size, seq_len, hidden_size]\n",
    "        # hidden, cell: [num_layers, batch_Size, hidden_size]\n",
    "        output = self.fc(output) # output: [batch_size, seq_len, vocab_size]\n",
    "        return output, hidden"
   ]
  },
  {
   "cell_type": "code",
   "execution_count": 13,
   "id": "a908fd60-5f1d-48d6-b200-4e2c43ad88cc",
   "metadata": {},
   "outputs": [
    {
     "data": {
      "text/plain": [
       "(torch.Size([16, 20, 32]), torch.Size([2, 16, 32]))"
      ]
     },
     "execution_count": 13,
     "metadata": {},
     "output_type": "execute_result"
    }
   ],
   "source": [
    "x = torch.zeros(16, 20).long()\n",
    "\n",
    "encoder = Seq2SeqEncoder(13000, 64, 32, 2, 0.1)\n",
    "output, hidden = encoder(x)\n",
    "\n",
    "output.shape, hidden.shape"
   ]
  },
  {
   "cell_type": "code",
   "execution_count": 14,
   "id": "ca48574d-e3d7-40a6-98fe-e6d3372cc7be",
   "metadata": {},
   "outputs": [
    {
     "data": {
      "text/plain": [
       "torch.Size([16, 20, 12500])"
      ]
     },
     "execution_count": 14,
     "metadata": {},
     "output_type": "execute_result"
    }
   ],
   "source": [
    "x = torch.zeros(16, 20).long()\n",
    "\n",
    "decoder = Seq2SeqDecoder(12500, 64, 32, 2, 0.1)\n",
    "output, hidden = decoder(x, hidden)\n",
    "\n",
    "output.shape"
   ]
  },
  {
   "cell_type": "code",
   "execution_count": 15,
   "id": "2183dd56-f2dc-4f1a-b5ef-18cedd349335",
   "metadata": {},
   "outputs": [],
   "source": [
    "# 1. 构建数据集\n",
    "class Vocab:\n",
    "    \"\"\" 用于存储单词词元映射关系的词典 \"\"\"\n",
    "    def __init__(self):\n",
    "        self.word2idx = {\"<BOS>\": 0, \"<EOS>\": 1, \"<PAD>\": 2}\n",
    "        self.idx2word = [\"<BOS>\", \"<EOS>\", \"<PAD>\"]\n",
    "\n",
    "    def add(self, word):\n",
    "        \"\"\" 向词典中添加新的单词 \"\"\"\n",
    "        if word not in self.idx2word:\n",
    "            self.word2idx[word] = len(self.idx2word)\n",
    "            self.idx2word.append(word)\n",
    "\n",
    "    def get_dummies(self, word):\n",
    "        if word in self.idx2word:\n",
    "            one_hot = torch.zeros(len(self.idx2word))\n",
    "            one_hot[self.word2idx.get(word)] = 1\n",
    "            return one_hot\n",
    "\n",
    "    def __len__(self):\n",
    "        return len(self.idx2word)\n",
    "\n",
    "def text_preprocess(sentence: str) -> str:\n",
    "    \"\"\" 文本预处理函数 \"\"\"\n",
    "    sentence = sentence.lower().strip()\n",
    "    import re\n",
    "    sentence = re.sub(r\"([.!?])\", r\"\\1\", sentence)\n",
    "    sentence = re.sub(r\"[^a-zA-Z!?]\", r\" \", sentence)\n",
    "    return sentence.strip()"
   ]
  },
  {
   "cell_type": "code",
   "execution_count": 19,
   "id": "64cdc3fc-c8b9-419d-8d99-eb0487fc4091",
   "metadata": {},
   "outputs": [
    {
     "data": {
      "text/plain": [
       "(15565, 19002)"
      ]
     },
     "execution_count": 19,
     "metadata": {},
     "output_type": "execute_result"
    }
   ],
   "source": [
    "vocab_eng = Vocab()\n",
    "vocab_fra = Vocab()\n",
    "\n",
    "eng_corpus = []\n",
    "fra_corpus = []\n",
    "\n",
    "with open(\"C:/Users/LENOVO/eng-fra.txt\", \"r\", encoding=\"utf-8\") as f:\n",
    "    for line in f.readlines():\n",
    "        eng, fra = line.split(\"\\t\")\n",
    "        eng, fra = text_preprocess(eng), text_preprocess(fra)\n",
    "    \n",
    "        for word in eng.split(\" \"):\n",
    "            vocab_eng.add(word)\n",
    "        for word in fra.split(\" \"):\n",
    "            vocab_fra.add(word)\n",
    "        eng_corpus.append(eng.split(\" \"))\n",
    "        fra_corpus.append(fra.split(\" \"))\n",
    "\n",
    "len(vocab_eng.word2idx), len(vocab_fra.word2idx)"
   ]
  },
  {
   "cell_type": "code",
   "execution_count": null,
   "id": "80be27e8-9153-49de-b1eb-6bb5dce75b97",
   "metadata": {},
   "outputs": [],
   "source": [
    "from torch.utils.data import Dataset, DataLoader\n",
    "\n",
    "class NMTDataset(Dataset):\n",
    "    \"\"\" 机器翻译数据集 \"\"\"\n",
    "    def __init__(self, vocab_eng, vocab_fra, eng_corpus, fra_corpus, seq_len=20):\n",
    "        self.eng_data = []\n",
    "        self.fra_data = []\n",
    "\n",
    "        for line in eng_corpus:\n",
    "            line = [\"<BOS>\"] + line[:seq_len-2] + [\"<EOS>\"]\n",
    "            if len(line) < seq_len:\n",
    "                line += [\"<PAD>\"] * (seq_len-len(line))\n",
    "            self.eng_data.append([vocab_eng.word2idx.get(x) for x in line])\n",
    "\n",
    "        for line in fra_corpus:\n",
    "            line = [\"<BOS>\"] + line[:seq_len-2] + [\"<EOS>\"]\n",
    "            if len(line) < seq_len:\n",
    "                line += [\"<PAD>\"] * (seq_len-len(line))\n",
    "            self.fra_data.append([vocab_fra.word2idx.get(x) for x in line])\n",
    "\n",
    "    def __len__(self):\n",
    "        return len(self.eng_data)\n",
    "\n",
    "    def __getitem__(self, idx):\n",
    "        eng_tensor = torch.tensor(self.eng_data[idx]).long()\n",
    "        fra_tensor = torch.tensor(self.fra_data[idx]).long()\n",
    "        return eng_tensor, fra_tensor\n",
    "\n",
    "dataset = NMTDataset(vocab_eng, vocab_fra, eng_corpus, fra_corpus, seq_len=20)"
   ]
  },
  {
   "cell_type": "code",
   "execution_count": null,
   "id": "37e297e6-fba7-449d-9724-6267cba1bdee",
   "metadata": {},
   "outputs": [
    {
     "data": {
      "text/plain": [
       "(torch.Size([16, 20]), torch.Size([16, 20]))"
      ]
     },
     "execution_count": 149,
     "metadata": {},
     "output_type": "execute_result"
    }
   ],
   "source": [
    "src, trg = dataset[:16]\n",
    "src.shape, trg.shape"
   ]
  },
  {
   "cell_type": "code",
   "execution_count": null,
   "id": "2857cd36-430b-4440-96b4-f041f4cf7270",
   "metadata": {},
   "outputs": [],
   "source": [
    "import random\n",
    "\n",
    "# 2. 模型构建\n",
    "class Seq2Seq(nn.Module):\n",
    "    \"\"\" 序列到序列模型 \"\"\"\n",
    "    def __init__(self, embedding_size, hidden_size, num_layers, lang1_vocab_size, lang2_vocab_size):\n",
    "        super().__init__()\n",
    "        # 编码器部分\n",
    "        self.encoder = Seq2SeqEncoder(lang1_vocab_size, embedding_size, hidden_size, num_layers)\n",
    "        # 解码器部分\n",
    "        self.decoder = Seq2SeqDecoder(lang2_vocab_size, embedding_size, hidden_size, num_layers)\n",
    "\n",
    "        self.trg_vocab_size = lang2_vocab_size\n",
    "\n",
    "    def forward(self, src, trg, teacher_forcing_rate=0.5):\n",
    "        \"\"\" 前向传播方法 \"\"\"\n",
    "        # src: [batch_size, seq_len]\n",
    "        # trg: [batch_size, seq_len]\n",
    "        batch_size = src.shape[0]\n",
    "        seq_len = src.shape[1]\n",
    "\n",
    "        outputs = torch.zeros(batch_size, seq_len, self.trg_vocab_size)\n",
    "\n",
    "        encoder_output, hidden_state = self.encoder(src)\n",
    "        # encoder_output: [batch_size, seq_len, hidden_size]\n",
    "        # hidden_state: [num_layers, batch_size, hidden_size]\n",
    "\n",
    "        decoder_input_token = torch.zeros(batch_size).long()  # decoder_input_token: [batch_size, 1] -> <BOS>: 0\n",
    "        \n",
    "        for step in range(1, seq_len):\n",
    "            decoder_output, hidden_state = self.decoder(decoder_input_token.view(-1, 1), hidden_state) # decoder_output: [batch_size, lang2_vocab_size]\n",
    "            outputs[:, step, :] = decoder_output.squeeze(1)  # decoder_output.squeeze(1): [batch_size, 1, lang2_vocab_size]\n",
    "\n",
    "            # 强制教学  Teacher-Forcing\n",
    "            is_teacher = random.random() < teacher_forcing_rate\n",
    "            top1 = decoder_output.max(-1)[1].view(-1)\n",
    "            decoder_input_token = trg[: , step] if is_teacher else top1\n",
    "        return outputs"
   ]
  },
  {
   "cell_type": "code",
   "execution_count": null,
   "id": "560faeab-a44c-4034-b7fa-50a1859e0da4",
   "metadata": {},
   "outputs": [],
   "source": [
    "model = Seq2Seq(512, 26, 2, len(vocab_eng), len(vocab_fra))\n",
    "loss_func = nn.CrossEntropyLoss()\n",
    "optimizer = torch.optim.Adam(model.parameters(), lr=1e-3)"
   ]
  },
  {
   "cell_type": "code",
   "execution_count": null,
   "id": "750d4d45-ee4b-4c6f-a4e9-9f940e666a30",
   "metadata": {},
   "outputs": [
    {
     "data": {
      "text/plain": [
       "torch.Size([16, 20, 19002])"
      ]
     },
     "execution_count": 166,
     "metadata": {},
     "output_type": "execute_result"
    }
   ],
   "source": [
    "outputs = model(src, trg, 0.5)\n",
    "outputs.shape"
   ]
  },
  {
   "cell_type": "code",
   "execution_count": null,
   "id": "cb2b1e2f-7fa8-4d9c-94a0-da0705a9e2dd",
   "metadata": {},
   "outputs": [
    {
     "data": {
      "text/plain": [
       "'<BOS> songiez songiez occidentale voudras chappa ri pancarte figurer figurer parole parole hirondelle cultive cultive parole posons posons conomistes conomistes'"
      ]
     },
     "execution_count": 182,
     "metadata": {},
     "output_type": "execute_result"
    }
   ],
   "source": [
    "\" \".join([vocab_fra.idx2word[x] for x in torch.argmax(outputs, -1).cpu().numpy()[2]])"
   ]
  },
  {
   "cell_type": "code",
   "execution_count": null,
   "id": "509cf72a-2de8-423a-a9d9-51169ef3e822",
   "metadata": {},
   "outputs": [],
   "source": [
    "# 3. 模型训练\n",
    "def train_model():\n",
    "    \"\"\"  \"\"\"\n",
    "    pass"
   ]
  }
 ],
 "metadata": {
  "kernelspec": {
   "display_name": "Python 3 (ipykernel)",
   "language": "python",
   "name": "python3"
  },
  "language_info": {
   "codemirror_mode": {
    "name": "ipython",
    "version": 3
   },
   "file_extension": ".py",
   "mimetype": "text/x-python",
   "name": "python",
   "nbconvert_exporter": "python",
   "pygments_lexer": "ipython3",
   "version": "3.9.13"
  }
 },
 "nbformat": 4,
 "nbformat_minor": 5
}
